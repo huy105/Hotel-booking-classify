{
 "cells": [
  {
   "cell_type": "code",
   "execution_count": 1,
   "metadata": {},
   "outputs": [],
   "source": [
    "import pandas as pd\n",
    "import matplotlib.pyplot as plt\n",
    "import seaborn as sns\n",
    "import numpy as np"
   ]
  },
  {
   "cell_type": "code",
   "execution_count": 2,
   "metadata": {},
   "outputs": [
    {
     "output_type": "execute_result",
     "data": {
      "text/plain": "          hotel  is_canceled  lead_time  arrival_date_year arrival_date_month  \\\n0  Resort Hotel            0        342               2015               July   \n1  Resort Hotel            0        737               2015               July   \n2  Resort Hotel            0          7               2015               July   \n3  Resort Hotel            0         13               2015               July   \n4  Resort Hotel            0         14               2015               July   \n\n   arrival_date_week_number  arrival_date_day_of_month  \\\n0                        27                          1   \n1                        27                          1   \n2                        27                          1   \n3                        27                          1   \n4                        27                          1   \n\n   stays_in_weekend_nights  stays_in_week_nights  adults  children  babies  \\\n0                        0                     0       2       0.0       0   \n1                        0                     0       2       0.0       0   \n2                        0                     1       1       0.0       0   \n3                        0                     1       1       0.0       0   \n4                        0                     2       2       0.0       0   \n\n  meal country market_segment distribution_channel  is_repeated_guest  \\\n0   BB     PRT         Direct               Direct                  0   \n1   BB     PRT         Direct               Direct                  0   \n2   BB     GBR         Direct               Direct                  0   \n3   BB     GBR      Corporate            Corporate                  0   \n4   BB     GBR      Online TA                TA/TO                  0   \n\n   previous_cancellations  previous_bookings_not_canceled reserved_room_type  \\\n0                       0                               0                  C   \n1                       0                               0                  C   \n2                       0                               0                  A   \n3                       0                               0                  A   \n4                       0                               0                  A   \n\n  assigned_room_type  booking_changes deposit_type  agent  company  \\\n0                  C                3   No Deposit    NaN      NaN   \n1                  C                4   No Deposit    NaN      NaN   \n2                  C                0   No Deposit    NaN      NaN   \n3                  A                0   No Deposit  304.0      NaN   \n4                  A                0   No Deposit  240.0      NaN   \n\n   days_in_waiting_list customer_type   adr  required_car_parking_spaces  \\\n0                     0     Transient   0.0                            0   \n1                     0     Transient   0.0                            0   \n2                     0     Transient  75.0                            0   \n3                     0     Transient  75.0                            0   \n4                     0     Transient  98.0                            0   \n\n   total_of_special_requests reservation_status reservation_status_date  \n0                          0          Check-Out              2015-07-01  \n1                          0          Check-Out              2015-07-01  \n2                          0          Check-Out              2015-07-02  \n3                          0          Check-Out              2015-07-02  \n4                          1          Check-Out              2015-07-03  ",
      "text/html": "<div>\n<style scoped>\n    .dataframe tbody tr th:only-of-type {\n        vertical-align: middle;\n    }\n\n    .dataframe tbody tr th {\n        vertical-align: top;\n    }\n\n    .dataframe thead th {\n        text-align: right;\n    }\n</style>\n<table border=\"1\" class=\"dataframe\">\n  <thead>\n    <tr style=\"text-align: right;\">\n      <th></th>\n      <th>hotel</th>\n      <th>is_canceled</th>\n      <th>lead_time</th>\n      <th>arrival_date_year</th>\n      <th>arrival_date_month</th>\n      <th>arrival_date_week_number</th>\n      <th>arrival_date_day_of_month</th>\n      <th>stays_in_weekend_nights</th>\n      <th>stays_in_week_nights</th>\n      <th>adults</th>\n      <th>children</th>\n      <th>babies</th>\n      <th>meal</th>\n      <th>country</th>\n      <th>market_segment</th>\n      <th>distribution_channel</th>\n      <th>is_repeated_guest</th>\n      <th>previous_cancellations</th>\n      <th>previous_bookings_not_canceled</th>\n      <th>reserved_room_type</th>\n      <th>assigned_room_type</th>\n      <th>booking_changes</th>\n      <th>deposit_type</th>\n      <th>agent</th>\n      <th>company</th>\n      <th>days_in_waiting_list</th>\n      <th>customer_type</th>\n      <th>adr</th>\n      <th>required_car_parking_spaces</th>\n      <th>total_of_special_requests</th>\n      <th>reservation_status</th>\n      <th>reservation_status_date</th>\n    </tr>\n  </thead>\n  <tbody>\n    <tr>\n      <th>0</th>\n      <td>Resort Hotel</td>\n      <td>0</td>\n      <td>342</td>\n      <td>2015</td>\n      <td>July</td>\n      <td>27</td>\n      <td>1</td>\n      <td>0</td>\n      <td>0</td>\n      <td>2</td>\n      <td>0.0</td>\n      <td>0</td>\n      <td>BB</td>\n      <td>PRT</td>\n      <td>Direct</td>\n      <td>Direct</td>\n      <td>0</td>\n      <td>0</td>\n      <td>0</td>\n      <td>C</td>\n      <td>C</td>\n      <td>3</td>\n      <td>No Deposit</td>\n      <td>NaN</td>\n      <td>NaN</td>\n      <td>0</td>\n      <td>Transient</td>\n      <td>0.0</td>\n      <td>0</td>\n      <td>0</td>\n      <td>Check-Out</td>\n      <td>2015-07-01</td>\n    </tr>\n    <tr>\n      <th>1</th>\n      <td>Resort Hotel</td>\n      <td>0</td>\n      <td>737</td>\n      <td>2015</td>\n      <td>July</td>\n      <td>27</td>\n      <td>1</td>\n      <td>0</td>\n      <td>0</td>\n      <td>2</td>\n      <td>0.0</td>\n      <td>0</td>\n      <td>BB</td>\n      <td>PRT</td>\n      <td>Direct</td>\n      <td>Direct</td>\n      <td>0</td>\n      <td>0</td>\n      <td>0</td>\n      <td>C</td>\n      <td>C</td>\n      <td>4</td>\n      <td>No Deposit</td>\n      <td>NaN</td>\n      <td>NaN</td>\n      <td>0</td>\n      <td>Transient</td>\n      <td>0.0</td>\n      <td>0</td>\n      <td>0</td>\n      <td>Check-Out</td>\n      <td>2015-07-01</td>\n    </tr>\n    <tr>\n      <th>2</th>\n      <td>Resort Hotel</td>\n      <td>0</td>\n      <td>7</td>\n      <td>2015</td>\n      <td>July</td>\n      <td>27</td>\n      <td>1</td>\n      <td>0</td>\n      <td>1</td>\n      <td>1</td>\n      <td>0.0</td>\n      <td>0</td>\n      <td>BB</td>\n      <td>GBR</td>\n      <td>Direct</td>\n      <td>Direct</td>\n      <td>0</td>\n      <td>0</td>\n      <td>0</td>\n      <td>A</td>\n      <td>C</td>\n      <td>0</td>\n      <td>No Deposit</td>\n      <td>NaN</td>\n      <td>NaN</td>\n      <td>0</td>\n      <td>Transient</td>\n      <td>75.0</td>\n      <td>0</td>\n      <td>0</td>\n      <td>Check-Out</td>\n      <td>2015-07-02</td>\n    </tr>\n    <tr>\n      <th>3</th>\n      <td>Resort Hotel</td>\n      <td>0</td>\n      <td>13</td>\n      <td>2015</td>\n      <td>July</td>\n      <td>27</td>\n      <td>1</td>\n      <td>0</td>\n      <td>1</td>\n      <td>1</td>\n      <td>0.0</td>\n      <td>0</td>\n      <td>BB</td>\n      <td>GBR</td>\n      <td>Corporate</td>\n      <td>Corporate</td>\n      <td>0</td>\n      <td>0</td>\n      <td>0</td>\n      <td>A</td>\n      <td>A</td>\n      <td>0</td>\n      <td>No Deposit</td>\n      <td>304.0</td>\n      <td>NaN</td>\n      <td>0</td>\n      <td>Transient</td>\n      <td>75.0</td>\n      <td>0</td>\n      <td>0</td>\n      <td>Check-Out</td>\n      <td>2015-07-02</td>\n    </tr>\n    <tr>\n      <th>4</th>\n      <td>Resort Hotel</td>\n      <td>0</td>\n      <td>14</td>\n      <td>2015</td>\n      <td>July</td>\n      <td>27</td>\n      <td>1</td>\n      <td>0</td>\n      <td>2</td>\n      <td>2</td>\n      <td>0.0</td>\n      <td>0</td>\n      <td>BB</td>\n      <td>GBR</td>\n      <td>Online TA</td>\n      <td>TA/TO</td>\n      <td>0</td>\n      <td>0</td>\n      <td>0</td>\n      <td>A</td>\n      <td>A</td>\n      <td>0</td>\n      <td>No Deposit</td>\n      <td>240.0</td>\n      <td>NaN</td>\n      <td>0</td>\n      <td>Transient</td>\n      <td>98.0</td>\n      <td>0</td>\n      <td>1</td>\n      <td>Check-Out</td>\n      <td>2015-07-03</td>\n    </tr>\n  </tbody>\n</table>\n</div>"
     },
     "metadata": {},
     "execution_count": 2
    }
   ],
   "source": [
    "data = pd.read_csv(r\"C:\\Users\\Admin\\Data python\\hotel_bookings.csv\")\n",
    "pd.set_option('display.max_columns', 32)\n",
    "data.head()"
   ]
  },
  {
   "cell_type": "code",
   "execution_count": 3,
   "metadata": {},
   "outputs": [],
   "source": [
    "col = ['agent', 'company', 'arrival_date_year', 'arrival_date_month', 'arrival_date_week_number', 'arrival_date_day_of_month', 'reservation_status_date', 'reservation_status', 'hotel']\n",
    "\n",
    "hotel_book = data.drop(col, axis= 1)"
   ]
  },
  {
   "cell_type": "code",
   "execution_count": 4,
   "metadata": {},
   "outputs": [
    {
     "output_type": "execute_result",
     "data": {
      "text/plain": "   is_canceled  lead_time  stays_in_weekend_nights  stays_in_week_nights  \\\n0            0        342                        0                     0   \n1            0        737                        0                     0   \n2            0          7                        0                     1   \n3            0         13                        0                     1   \n4            0         14                        0                     2   \n\n   adults  children  babies meal country market_segment distribution_channel  \\\n0       2       0.0       0   BB     PRT         Direct               Direct   \n1       2       0.0       0   BB     PRT         Direct               Direct   \n2       1       0.0       0   BB     GBR         Direct               Direct   \n3       1       0.0       0   BB     GBR      Corporate            Corporate   \n4       2       0.0       0   BB     GBR      Online TA                TA/TO   \n\n   is_repeated_guest  previous_cancellations  previous_bookings_not_canceled  \\\n0                  0                       0                               0   \n1                  0                       0                               0   \n2                  0                       0                               0   \n3                  0                       0                               0   \n4                  0                       0                               0   \n\n  reserved_room_type assigned_room_type  booking_changes deposit_type  \\\n0                  C                  C                3   No Deposit   \n1                  C                  C                4   No Deposit   \n2                  A                  C                0   No Deposit   \n3                  A                  A                0   No Deposit   \n4                  A                  A                0   No Deposit   \n\n   days_in_waiting_list customer_type   adr  required_car_parking_spaces  \\\n0                     0     Transient   0.0                            0   \n1                     0     Transient   0.0                            0   \n2                     0     Transient  75.0                            0   \n3                     0     Transient  75.0                            0   \n4                     0     Transient  98.0                            0   \n\n   total_of_special_requests  \n0                          0  \n1                          0  \n2                          0  \n3                          0  \n4                          1  ",
      "text/html": "<div>\n<style scoped>\n    .dataframe tbody tr th:only-of-type {\n        vertical-align: middle;\n    }\n\n    .dataframe tbody tr th {\n        vertical-align: top;\n    }\n\n    .dataframe thead th {\n        text-align: right;\n    }\n</style>\n<table border=\"1\" class=\"dataframe\">\n  <thead>\n    <tr style=\"text-align: right;\">\n      <th></th>\n      <th>is_canceled</th>\n      <th>lead_time</th>\n      <th>stays_in_weekend_nights</th>\n      <th>stays_in_week_nights</th>\n      <th>adults</th>\n      <th>children</th>\n      <th>babies</th>\n      <th>meal</th>\n      <th>country</th>\n      <th>market_segment</th>\n      <th>distribution_channel</th>\n      <th>is_repeated_guest</th>\n      <th>previous_cancellations</th>\n      <th>previous_bookings_not_canceled</th>\n      <th>reserved_room_type</th>\n      <th>assigned_room_type</th>\n      <th>booking_changes</th>\n      <th>deposit_type</th>\n      <th>days_in_waiting_list</th>\n      <th>customer_type</th>\n      <th>adr</th>\n      <th>required_car_parking_spaces</th>\n      <th>total_of_special_requests</th>\n    </tr>\n  </thead>\n  <tbody>\n    <tr>\n      <th>0</th>\n      <td>0</td>\n      <td>342</td>\n      <td>0</td>\n      <td>0</td>\n      <td>2</td>\n      <td>0.0</td>\n      <td>0</td>\n      <td>BB</td>\n      <td>PRT</td>\n      <td>Direct</td>\n      <td>Direct</td>\n      <td>0</td>\n      <td>0</td>\n      <td>0</td>\n      <td>C</td>\n      <td>C</td>\n      <td>3</td>\n      <td>No Deposit</td>\n      <td>0</td>\n      <td>Transient</td>\n      <td>0.0</td>\n      <td>0</td>\n      <td>0</td>\n    </tr>\n    <tr>\n      <th>1</th>\n      <td>0</td>\n      <td>737</td>\n      <td>0</td>\n      <td>0</td>\n      <td>2</td>\n      <td>0.0</td>\n      <td>0</td>\n      <td>BB</td>\n      <td>PRT</td>\n      <td>Direct</td>\n      <td>Direct</td>\n      <td>0</td>\n      <td>0</td>\n      <td>0</td>\n      <td>C</td>\n      <td>C</td>\n      <td>4</td>\n      <td>No Deposit</td>\n      <td>0</td>\n      <td>Transient</td>\n      <td>0.0</td>\n      <td>0</td>\n      <td>0</td>\n    </tr>\n    <tr>\n      <th>2</th>\n      <td>0</td>\n      <td>7</td>\n      <td>0</td>\n      <td>1</td>\n      <td>1</td>\n      <td>0.0</td>\n      <td>0</td>\n      <td>BB</td>\n      <td>GBR</td>\n      <td>Direct</td>\n      <td>Direct</td>\n      <td>0</td>\n      <td>0</td>\n      <td>0</td>\n      <td>A</td>\n      <td>C</td>\n      <td>0</td>\n      <td>No Deposit</td>\n      <td>0</td>\n      <td>Transient</td>\n      <td>75.0</td>\n      <td>0</td>\n      <td>0</td>\n    </tr>\n    <tr>\n      <th>3</th>\n      <td>0</td>\n      <td>13</td>\n      <td>0</td>\n      <td>1</td>\n      <td>1</td>\n      <td>0.0</td>\n      <td>0</td>\n      <td>BB</td>\n      <td>GBR</td>\n      <td>Corporate</td>\n      <td>Corporate</td>\n      <td>0</td>\n      <td>0</td>\n      <td>0</td>\n      <td>A</td>\n      <td>A</td>\n      <td>0</td>\n      <td>No Deposit</td>\n      <td>0</td>\n      <td>Transient</td>\n      <td>75.0</td>\n      <td>0</td>\n      <td>0</td>\n    </tr>\n    <tr>\n      <th>4</th>\n      <td>0</td>\n      <td>14</td>\n      <td>0</td>\n      <td>2</td>\n      <td>2</td>\n      <td>0.0</td>\n      <td>0</td>\n      <td>BB</td>\n      <td>GBR</td>\n      <td>Online TA</td>\n      <td>TA/TO</td>\n      <td>0</td>\n      <td>0</td>\n      <td>0</td>\n      <td>A</td>\n      <td>A</td>\n      <td>0</td>\n      <td>No Deposit</td>\n      <td>0</td>\n      <td>Transient</td>\n      <td>98.0</td>\n      <td>0</td>\n      <td>1</td>\n    </tr>\n  </tbody>\n</table>\n</div>"
     },
     "metadata": {},
     "execution_count": 4
    }
   ],
   "source": [
    "hotel_book.head()"
   ]
  },
  {
   "cell_type": "code",
   "execution_count": 5,
   "metadata": {},
   "outputs": [
    {
     "output_type": "stream",
     "name": "stdout",
     "text": "<class 'pandas.core.frame.DataFrame'>\nRangeIndex: 119390 entries, 0 to 119389\nData columns (total 23 columns):\n #   Column                          Non-Null Count   Dtype  \n---  ------                          --------------   -----  \n 0   is_canceled                     119390 non-null  int64  \n 1   lead_time                       119390 non-null  int64  \n 2   stays_in_weekend_nights         119390 non-null  int64  \n 3   stays_in_week_nights            119390 non-null  int64  \n 4   adults                          119390 non-null  int64  \n 5   children                        119386 non-null  float64\n 6   babies                          119390 non-null  int64  \n 7   meal                            119390 non-null  object \n 8   country                         118902 non-null  object \n 9   market_segment                  119390 non-null  object \n 10  distribution_channel            119390 non-null  object \n 11  is_repeated_guest               119390 non-null  int64  \n 12  previous_cancellations          119390 non-null  int64  \n 13  previous_bookings_not_canceled  119390 non-null  int64  \n 14  reserved_room_type              119390 non-null  object \n 15  assigned_room_type              119390 non-null  object \n 16  booking_changes                 119390 non-null  int64  \n 17  deposit_type                    119390 non-null  object \n 18  days_in_waiting_list            119390 non-null  int64  \n 19  customer_type                   119390 non-null  object \n 20  adr                             119390 non-null  float64\n 21  required_car_parking_spaces     119390 non-null  int64  \n 22  total_of_special_requests       119390 non-null  int64  \ndtypes: float64(2), int64(13), object(8)\nmemory usage: 21.0+ MB\n"
    }
   ],
   "source": [
    "hotel_book.info()"
   ]
  },
  {
   "cell_type": "code",
   "execution_count": 6,
   "metadata": {},
   "outputs": [
    {
     "output_type": "execute_result",
     "data": {
      "text/plain": "         is_canceled      lead_time  stays_in_weekend_nights  \\\ncount  119390.000000  119390.000000            119390.000000   \nmean        0.370416     104.011416                 0.927599   \nstd         0.482918     106.863097                 0.998613   \nmin         0.000000       0.000000                 0.000000   \n25%         0.000000      18.000000                 0.000000   \n50%         0.000000      69.000000                 1.000000   \n75%         1.000000     160.000000                 2.000000   \nmax         1.000000     737.000000                19.000000   \n\n       stays_in_week_nights         adults       children         babies  \\\ncount         119390.000000  119390.000000  119386.000000  119390.000000   \nmean               2.500302       1.856403       0.103890       0.007949   \nstd                1.908286       0.579261       0.398561       0.097436   \nmin                0.000000       0.000000       0.000000       0.000000   \n25%                1.000000       2.000000       0.000000       0.000000   \n50%                2.000000       2.000000       0.000000       0.000000   \n75%                3.000000       2.000000       0.000000       0.000000   \nmax               50.000000      55.000000      10.000000      10.000000   \n\n       is_repeated_guest  previous_cancellations  \\\ncount      119390.000000           119390.000000   \nmean            0.031912                0.087118   \nstd             0.175767                0.844336   \nmin             0.000000                0.000000   \n25%             0.000000                0.000000   \n50%             0.000000                0.000000   \n75%             0.000000                0.000000   \nmax             1.000000               26.000000   \n\n       previous_bookings_not_canceled  booking_changes  days_in_waiting_list  \\\ncount                   119390.000000    119390.000000         119390.000000   \nmean                         0.137097         0.221124              2.321149   \nstd                          1.497437         0.652306             17.594721   \nmin                          0.000000         0.000000              0.000000   \n25%                          0.000000         0.000000              0.000000   \n50%                          0.000000         0.000000              0.000000   \n75%                          0.000000         0.000000              0.000000   \nmax                         72.000000        21.000000            391.000000   \n\n                 adr  required_car_parking_spaces  total_of_special_requests  \ncount  119390.000000                119390.000000              119390.000000  \nmean      101.831122                     0.062518                   0.571363  \nstd        50.535790                     0.245291                   0.792798  \nmin        -6.380000                     0.000000                   0.000000  \n25%        69.290000                     0.000000                   0.000000  \n50%        94.575000                     0.000000                   0.000000  \n75%       126.000000                     0.000000                   1.000000  \nmax      5400.000000                     8.000000                   5.000000  ",
      "text/html": "<div>\n<style scoped>\n    .dataframe tbody tr th:only-of-type {\n        vertical-align: middle;\n    }\n\n    .dataframe tbody tr th {\n        vertical-align: top;\n    }\n\n    .dataframe thead th {\n        text-align: right;\n    }\n</style>\n<table border=\"1\" class=\"dataframe\">\n  <thead>\n    <tr style=\"text-align: right;\">\n      <th></th>\n      <th>is_canceled</th>\n      <th>lead_time</th>\n      <th>stays_in_weekend_nights</th>\n      <th>stays_in_week_nights</th>\n      <th>adults</th>\n      <th>children</th>\n      <th>babies</th>\n      <th>is_repeated_guest</th>\n      <th>previous_cancellations</th>\n      <th>previous_bookings_not_canceled</th>\n      <th>booking_changes</th>\n      <th>days_in_waiting_list</th>\n      <th>adr</th>\n      <th>required_car_parking_spaces</th>\n      <th>total_of_special_requests</th>\n    </tr>\n  </thead>\n  <tbody>\n    <tr>\n      <th>count</th>\n      <td>119390.000000</td>\n      <td>119390.000000</td>\n      <td>119390.000000</td>\n      <td>119390.000000</td>\n      <td>119390.000000</td>\n      <td>119386.000000</td>\n      <td>119390.000000</td>\n      <td>119390.000000</td>\n      <td>119390.000000</td>\n      <td>119390.000000</td>\n      <td>119390.000000</td>\n      <td>119390.000000</td>\n      <td>119390.000000</td>\n      <td>119390.000000</td>\n      <td>119390.000000</td>\n    </tr>\n    <tr>\n      <th>mean</th>\n      <td>0.370416</td>\n      <td>104.011416</td>\n      <td>0.927599</td>\n      <td>2.500302</td>\n      <td>1.856403</td>\n      <td>0.103890</td>\n      <td>0.007949</td>\n      <td>0.031912</td>\n      <td>0.087118</td>\n      <td>0.137097</td>\n      <td>0.221124</td>\n      <td>2.321149</td>\n      <td>101.831122</td>\n      <td>0.062518</td>\n      <td>0.571363</td>\n    </tr>\n    <tr>\n      <th>std</th>\n      <td>0.482918</td>\n      <td>106.863097</td>\n      <td>0.998613</td>\n      <td>1.908286</td>\n      <td>0.579261</td>\n      <td>0.398561</td>\n      <td>0.097436</td>\n      <td>0.175767</td>\n      <td>0.844336</td>\n      <td>1.497437</td>\n      <td>0.652306</td>\n      <td>17.594721</td>\n      <td>50.535790</td>\n      <td>0.245291</td>\n      <td>0.792798</td>\n    </tr>\n    <tr>\n      <th>min</th>\n      <td>0.000000</td>\n      <td>0.000000</td>\n      <td>0.000000</td>\n      <td>0.000000</td>\n      <td>0.000000</td>\n      <td>0.000000</td>\n      <td>0.000000</td>\n      <td>0.000000</td>\n      <td>0.000000</td>\n      <td>0.000000</td>\n      <td>0.000000</td>\n      <td>0.000000</td>\n      <td>-6.380000</td>\n      <td>0.000000</td>\n      <td>0.000000</td>\n    </tr>\n    <tr>\n      <th>25%</th>\n      <td>0.000000</td>\n      <td>18.000000</td>\n      <td>0.000000</td>\n      <td>1.000000</td>\n      <td>2.000000</td>\n      <td>0.000000</td>\n      <td>0.000000</td>\n      <td>0.000000</td>\n      <td>0.000000</td>\n      <td>0.000000</td>\n      <td>0.000000</td>\n      <td>0.000000</td>\n      <td>69.290000</td>\n      <td>0.000000</td>\n      <td>0.000000</td>\n    </tr>\n    <tr>\n      <th>50%</th>\n      <td>0.000000</td>\n      <td>69.000000</td>\n      <td>1.000000</td>\n      <td>2.000000</td>\n      <td>2.000000</td>\n      <td>0.000000</td>\n      <td>0.000000</td>\n      <td>0.000000</td>\n      <td>0.000000</td>\n      <td>0.000000</td>\n      <td>0.000000</td>\n      <td>0.000000</td>\n      <td>94.575000</td>\n      <td>0.000000</td>\n      <td>0.000000</td>\n    </tr>\n    <tr>\n      <th>75%</th>\n      <td>1.000000</td>\n      <td>160.000000</td>\n      <td>2.000000</td>\n      <td>3.000000</td>\n      <td>2.000000</td>\n      <td>0.000000</td>\n      <td>0.000000</td>\n      <td>0.000000</td>\n      <td>0.000000</td>\n      <td>0.000000</td>\n      <td>0.000000</td>\n      <td>0.000000</td>\n      <td>126.000000</td>\n      <td>0.000000</td>\n      <td>1.000000</td>\n    </tr>\n    <tr>\n      <th>max</th>\n      <td>1.000000</td>\n      <td>737.000000</td>\n      <td>19.000000</td>\n      <td>50.000000</td>\n      <td>55.000000</td>\n      <td>10.000000</td>\n      <td>10.000000</td>\n      <td>1.000000</td>\n      <td>26.000000</td>\n      <td>72.000000</td>\n      <td>21.000000</td>\n      <td>391.000000</td>\n      <td>5400.000000</td>\n      <td>8.000000</td>\n      <td>5.000000</td>\n    </tr>\n  </tbody>\n</table>\n</div>"
     },
     "metadata": {},
     "execution_count": 6
    }
   ],
   "source": [
    "hotel_book.describe()"
   ]
  },
  {
   "cell_type": "markdown",
   "metadata": {},
   "source": [
    "## Explain column meaning\n",
    "\n",
    "**hotel**：City hotel hoặc Resort Hotel\n",
    "\n",
    "**lead_time**：Số ngày từ khi đặt phòng đến ngày nghỉ trọ.\n",
    "\n",
    "**stays_in_weekend_nights**：Số ngày đặt phòng và nghỉ lại (Thứ 7, Chủ Nhật)\n",
    "\n",
    "**stays_in_week_nights**：Số ngày đặt phòng và nghỉ lại (Thứ 2 ~ Thứ 6)\n",
    "\n",
    "**country**：Quốc gia.\n",
    "\n",
    "**market_segment**：Phân loại thị trường(TA：Đại lý du lịch、TO：Điều hành du lịch)\n",
    "\n",
    "**distribution_channel**：kênh cung cấp(TA：Đại lý du lịch、TO：Điều hành du lịch)\n",
    "\n",
    "**is_repeated_guest**：có phải repeater hay không\n",
    "\n",
    "**previous_cancellations**：Đã từng hủy đặt phòng trước đây\n",
    "\n",
    "**previous_bookings_not_canceled**：chưa từng hủy đặt phòng trước đây\n",
    "\n",
    "**reserved_room_type**：Loại phòng đặt\n",
    "\n",
    "**assigned_room_type**：Loại phòng sắp xếp\n",
    "\n",
    "**booking_changes**：Số lần thay đổi đặt phòng\n",
    "\n",
    "**agent**：ẩn\n",
    "\n",
    "**company**：ẩn\n",
    "\n",
    "**days_in_waiting_list**：Số ngày lấy được xác nhận của khách hàng.\n",
    "\n",
    "**customer_type**：loại khách hàng\n",
    "\n",
    "**adr**：Tỉ giá trung bình ngày nghỉ trọ\n",
    "\n",
    "**required_car_parking_spaces**：Yêu cầu bao nhiêu chỗ đỗ xe\n",
    "\n",
    "**total_of_special_requests**：Số lượng yêu cầu đặc biệt.\n",
    "\n",
    "*Đây là bộ dữ liệu trích xuất từ hệ thống Quản lý khách sạn (PMS), vì thế tên khách sạn và đại lý đặt phòng sẽ được ẩn \n",
    "đi.*\n",
    "\n",
    "### Explain for meal\n",
    "\n",
    "**RO**: Room only\n",
    "\n",
    "**BB**: Bed & Breakfast\n",
    "\n",
    "**HB**: Half Board (Breakfast and Dinner normally)\n",
    "\n",
    "**FB**: Full Board (Beakfast, Lunch and Dinner)\n",
    "\n",
    "**AI**: All Inclusive (all services of full board plus any others specified in each case)"
   ]
  },
  {
   "cell_type": "code",
   "execution_count": 7,
   "metadata": {},
   "outputs": [
    {
     "output_type": "stream",
     "name": "stdout",
     "text": "Column name is: meal and it value is: BB           92310\nHB           14463\nSC           10650\nUndefined     1169\nFB             798\nName: meal, dtype: int64\n\nColumn name is: country and it value is: PRT    48590\nGBR    12129\nFRA    10415\nESP     8568\nDEU     7287\n       ...  \nNCL        1\nNAM        1\nDJI        1\nSLE        1\nMLI        1\nName: country, Length: 177, dtype: int64\n\nColumn name is: market_segment and it value is: Online TA        56477\nOffline TA/TO    24219\nGroups           19811\nDirect           12606\nCorporate         5295\nComplementary      743\nAviation           237\nUndefined            2\nName: market_segment, dtype: int64\n\nColumn name is: distribution_channel and it value is: TA/TO        97870\nDirect       14645\nCorporate     6677\nGDS            193\nUndefined        5\nName: distribution_channel, dtype: int64\n\nColumn name is: reserved_room_type and it value is: A    85994\nD    19201\nE     6535\nF     2897\nG     2094\nB     1118\nC      932\nH      601\nP       12\nL        6\nName: reserved_room_type, dtype: int64\n\nColumn name is: assigned_room_type and it value is: A    74053\nD    25322\nE     7806\nF     3751\nG     2553\nC     2375\nB     2163\nH      712\nI      363\nK      279\nP       12\nL        1\nName: assigned_room_type, dtype: int64\n\nColumn name is: deposit_type and it value is: No Deposit    104641\nNon Refund     14587\nRefundable       162\nName: deposit_type, dtype: int64\n\nColumn name is: customer_type and it value is: Transient          89613\nTransient-Party    25124\nContract            4076\nGroup                577\nName: customer_type, dtype: int64\n\n"
    }
   ],
   "source": [
    "# Categorical data\n",
    "col = ['meal', 'country',\"market_segment\", 'distribution_channel', 'reserved_room_type', 'assigned_room_type',\"deposit_type\",\"customer_type\"]\n",
    "\n",
    "for i in hotel_book[col]:\n",
    "    x = hotel_book[i].value_counts()\n",
    "    print(\"Column name is:\",i,\"and it value is:\",x)\n",
    "    print()"
   ]
  },
  {
   "cell_type": "markdown",
   "metadata": {},
   "source": [
    "**meal country**:5\n",
    "\n",
    "**market_segment**: 177\n",
    "\n",
    "**market_segment**: 8 \n",
    "\n",
    "**distribution_channel**: 5 \n",
    "\n",
    "**reserved_room_type**: 9\n",
    "\n",
    "**assigned_room_type**: 11\n",
    "\n",
    "**deposit_type**: 3\n",
    "\n",
    "**customer_type**: 4"
   ]
  },
  {
   "cell_type": "code",
   "execution_count": 8,
   "metadata": {},
   "outputs": [
    {
     "output_type": "execute_result",
     "data": {
      "text/plain": "is_canceled                       False\nlead_time                         False\nstays_in_weekend_nights           False\nstays_in_week_nights              False\nadults                            False\nchildren                           True\nbabies                            False\nmeal                              False\ncountry                            True\nmarket_segment                    False\ndistribution_channel              False\nis_repeated_guest                 False\nprevious_cancellations            False\nprevious_bookings_not_canceled    False\nreserved_room_type                False\nassigned_room_type                False\nbooking_changes                   False\ndeposit_type                      False\ndays_in_waiting_list              False\ncustomer_type                     False\nadr                               False\nrequired_car_parking_spaces       False\ntotal_of_special_requests         False\ndtype: bool"
     },
     "metadata": {},
     "execution_count": 8
    }
   ],
   "source": [
    "hotel_book.isnull().any()"
   ]
  },
  {
   "cell_type": "code",
   "execution_count": 9,
   "metadata": {},
   "outputs": [],
   "source": [
    "hotel_book = hotel_book.dropna()"
   ]
  },
  {
   "cell_type": "code",
   "execution_count": 10,
   "metadata": {},
   "outputs": [],
   "source": [
    "index_drop = hotel_book[(hotel_book['meal'] == 'Undefined') & (hotel_book['market_segment'] == 'Undefined') & (hotel_book['distribution_channel'] == 'Undefined')]\n",
    "\n",
    "hotel_book.drop(index_drop.index, inplace = True,axis = 0)"
   ]
  },
  {
   "cell_type": "code",
   "execution_count": 11,
   "metadata": {},
   "outputs": [],
   "source": [
    "from sklearn.model_selection import train_test_split\n",
    "\n",
    "train_set, test_set = train_test_split(hotel_book, test_size = 0.2, random_state = 42)"
   ]
  },
  {
   "cell_type": "code",
   "execution_count": 12,
   "metadata": {},
   "outputs": [
    {
     "output_type": "execute_result",
     "data": {
      "text/plain": "   is_canceled  lead_time  stays_in_weekend_nights  stays_in_week_nights  \\\n0            0        342                        0                     0   \n1            0        737                        0                     0   \n2            0          7                        0                     1   \n3            0         13                        0                     1   \n4            0         14                        0                     2   \n\n   adults  children  babies meal country market_segment distribution_channel  \\\n0       2       0.0       0   BB     PRT         Direct               Direct   \n1       2       0.0       0   BB     PRT         Direct               Direct   \n2       1       0.0       0   BB     GBR         Direct               Direct   \n3       1       0.0       0   BB     GBR      Corporate            Corporate   \n4       2       0.0       0   BB     GBR      Online TA                TA/TO   \n\n   is_repeated_guest  previous_cancellations  previous_bookings_not_canceled  \\\n0                  0                       0                               0   \n1                  0                       0                               0   \n2                  0                       0                               0   \n3                  0                       0                               0   \n4                  0                       0                               0   \n\n  reserved_room_type assigned_room_type  booking_changes deposit_type  \\\n0                  C                  C                3   No Deposit   \n1                  C                  C                4   No Deposit   \n2                  A                  C                0   No Deposit   \n3                  A                  A                0   No Deposit   \n4                  A                  A                0   No Deposit   \n\n   days_in_waiting_list customer_type   adr  required_car_parking_spaces  \\\n0                     0     Transient   0.0                            0   \n1                     0     Transient   0.0                            0   \n2                     0     Transient  75.0                            0   \n3                     0     Transient  75.0                            0   \n4                     0     Transient  98.0                            0   \n\n   total_of_special_requests  \n0                          0  \n1                          0  \n2                          0  \n3                          0  \n4                          1  ",
      "text/html": "<div>\n<style scoped>\n    .dataframe tbody tr th:only-of-type {\n        vertical-align: middle;\n    }\n\n    .dataframe tbody tr th {\n        vertical-align: top;\n    }\n\n    .dataframe thead th {\n        text-align: right;\n    }\n</style>\n<table border=\"1\" class=\"dataframe\">\n  <thead>\n    <tr style=\"text-align: right;\">\n      <th></th>\n      <th>is_canceled</th>\n      <th>lead_time</th>\n      <th>stays_in_weekend_nights</th>\n      <th>stays_in_week_nights</th>\n      <th>adults</th>\n      <th>children</th>\n      <th>babies</th>\n      <th>meal</th>\n      <th>country</th>\n      <th>market_segment</th>\n      <th>distribution_channel</th>\n      <th>is_repeated_guest</th>\n      <th>previous_cancellations</th>\n      <th>previous_bookings_not_canceled</th>\n      <th>reserved_room_type</th>\n      <th>assigned_room_type</th>\n      <th>booking_changes</th>\n      <th>deposit_type</th>\n      <th>days_in_waiting_list</th>\n      <th>customer_type</th>\n      <th>adr</th>\n      <th>required_car_parking_spaces</th>\n      <th>total_of_special_requests</th>\n    </tr>\n  </thead>\n  <tbody>\n    <tr>\n      <th>0</th>\n      <td>0</td>\n      <td>342</td>\n      <td>0</td>\n      <td>0</td>\n      <td>2</td>\n      <td>0.0</td>\n      <td>0</td>\n      <td>BB</td>\n      <td>PRT</td>\n      <td>Direct</td>\n      <td>Direct</td>\n      <td>0</td>\n      <td>0</td>\n      <td>0</td>\n      <td>C</td>\n      <td>C</td>\n      <td>3</td>\n      <td>No Deposit</td>\n      <td>0</td>\n      <td>Transient</td>\n      <td>0.0</td>\n      <td>0</td>\n      <td>0</td>\n    </tr>\n    <tr>\n      <th>1</th>\n      <td>0</td>\n      <td>737</td>\n      <td>0</td>\n      <td>0</td>\n      <td>2</td>\n      <td>0.0</td>\n      <td>0</td>\n      <td>BB</td>\n      <td>PRT</td>\n      <td>Direct</td>\n      <td>Direct</td>\n      <td>0</td>\n      <td>0</td>\n      <td>0</td>\n      <td>C</td>\n      <td>C</td>\n      <td>4</td>\n      <td>No Deposit</td>\n      <td>0</td>\n      <td>Transient</td>\n      <td>0.0</td>\n      <td>0</td>\n      <td>0</td>\n    </tr>\n    <tr>\n      <th>2</th>\n      <td>0</td>\n      <td>7</td>\n      <td>0</td>\n      <td>1</td>\n      <td>1</td>\n      <td>0.0</td>\n      <td>0</td>\n      <td>BB</td>\n      <td>GBR</td>\n      <td>Direct</td>\n      <td>Direct</td>\n      <td>0</td>\n      <td>0</td>\n      <td>0</td>\n      <td>A</td>\n      <td>C</td>\n      <td>0</td>\n      <td>No Deposit</td>\n      <td>0</td>\n      <td>Transient</td>\n      <td>75.0</td>\n      <td>0</td>\n      <td>0</td>\n    </tr>\n    <tr>\n      <th>3</th>\n      <td>0</td>\n      <td>13</td>\n      <td>0</td>\n      <td>1</td>\n      <td>1</td>\n      <td>0.0</td>\n      <td>0</td>\n      <td>BB</td>\n      <td>GBR</td>\n      <td>Corporate</td>\n      <td>Corporate</td>\n      <td>0</td>\n      <td>0</td>\n      <td>0</td>\n      <td>A</td>\n      <td>A</td>\n      <td>0</td>\n      <td>No Deposit</td>\n      <td>0</td>\n      <td>Transient</td>\n      <td>75.0</td>\n      <td>0</td>\n      <td>0</td>\n    </tr>\n    <tr>\n      <th>4</th>\n      <td>0</td>\n      <td>14</td>\n      <td>0</td>\n      <td>2</td>\n      <td>2</td>\n      <td>0.0</td>\n      <td>0</td>\n      <td>BB</td>\n      <td>GBR</td>\n      <td>Online TA</td>\n      <td>TA/TO</td>\n      <td>0</td>\n      <td>0</td>\n      <td>0</td>\n      <td>A</td>\n      <td>A</td>\n      <td>0</td>\n      <td>No Deposit</td>\n      <td>0</td>\n      <td>Transient</td>\n      <td>98.0</td>\n      <td>0</td>\n      <td>1</td>\n    </tr>\n  </tbody>\n</table>\n</div>"
     },
     "metadata": {},
     "execution_count": 12
    }
   ],
   "source": [
    "hotel_book.head()"
   ]
  },
  {
   "cell_type": "code",
   "execution_count": 13,
   "metadata": {},
   "outputs": [],
   "source": [
    "X_notprepared_train_set = train_set.drop([\"is_canceled\"], axis = 1)\n",
    "\n",
    "# Take the booking has been canceled\n",
    "Y_train_set = (train_set[\"is_canceled\"] == 1).copy()"
   ]
  },
  {
   "cell_type": "code",
   "execution_count": 14,
   "metadata": {},
   "outputs": [],
   "source": [
    "from sklearn.compose import ColumnTransformer\n",
    "from sklearn.preprocessing import StandardScaler\n",
    "from sklearn.preprocessing import OneHotEncoder\n",
    "\n",
    "num_attri = [\"lead_time\", 'stays_in_weekend_nights', 'stays_in_week_nights', 'adults', 'children', 'babies', 'booking_changes', 'days_in_waiting_list', 'adr', 'required_car_parking_spaces']\n",
    "cat_attri = ['meal', 'country', 'market_segment', 'distribution_channel', 'reserved_room_type', 'assigned_room_type', 'deposit_type', 'customer_type']\n",
    "\n",
    "full_pipeline = ColumnTransformer([\n",
    "    (\"num\", StandardScaler(), num_attri),\n",
    "    (\"cat\", OneHotEncoder(), cat_attri)\n",
    "])\n",
    "\n",
    "X_prepared_train_set = full_pipeline.fit_transform(X_notprepared_train_set)"
   ]
  },
  {
   "cell_type": "code",
   "execution_count": 15,
   "metadata": {},
   "outputs": [],
   "source": [
    "X_prepared_train_set = X_prepared_train_set.toarray()"
   ]
  },
  {
   "cell_type": "code",
   "execution_count": 17,
   "metadata": {},
   "outputs": [],
   "source": [
    "from sklearn.decomposition import PCA\n",
    "\n",
    "pca = PCA(n_components = 0.95)\n",
    "\n",
    "X_prepared_train_set_reduced = pca.fit_transform(X_prepared_train_set)"
   ]
  },
  {
   "cell_type": "code",
   "execution_count": 18,
   "metadata": {},
   "outputs": [
    {
     "output_type": "execute_result",
     "data": {
      "text/plain": "(95118, 24)"
     },
     "metadata": {},
     "execution_count": 18
    }
   ],
   "source": [
    "X_prepared_train_set_reduced.shape"
   ]
  },
  {
   "cell_type": "code",
   "execution_count": 20,
   "metadata": {},
   "outputs": [
    {
     "output_type": "execute_result",
     "data": {
      "text/plain": "SGDClassifier(alpha=0.0001, average=False, class_weight=None,\n              early_stopping=False, epsilon=0.1, eta0=0.0, fit_intercept=True,\n              l1_ratio=0.15, learning_rate='optimal', loss='hinge',\n              max_iter=1000, n_iter_no_change=5, n_jobs=None, penalty='l2',\n              power_t=0.5, random_state=42, shuffle=True, tol=0.001,\n              validation_fraction=0.1, verbose=0, warm_start=False)"
     },
     "metadata": {},
     "execution_count": 20
    }
   ],
   "source": [
    "from sklearn.linear_model import SGDClassifier\n",
    "from sklearn.model_selection import cross_val_predict\n",
    "\n",
    "sgd_clf = SGDClassifier(random_state = 42)\n",
    "\n",
    "sgd_clf.fit(X_prepared_train_set_reduced, Y_train_set)"
   ]
  },
  {
   "cell_type": "code",
   "execution_count": 29,
   "metadata": {},
   "outputs": [],
   "source": [
    "from sklearn.model_selection import cross_val_score\n",
    "from sklearn.model_selection import cross_val_predict\n",
    "from sklearn.metrics import confusion_matrix\n",
    "\n",
    "def EvalAcc_Confumatrix(model, X, Y, cv = 5):\n",
    "    result1 = cross_val_score(model, X, Y, scoring = \"accuracy\", cv = cv)\n",
    "    result2 = cross_val_predict(model, X, Y, cv = cv)\n",
    "    print(\"score:\", result1)\n",
    "    print(\"confu_matrix:\", confusion_matrix(result2, Y))"
   ]
  },
  {
   "cell_type": "code",
   "execution_count": 30,
   "metadata": {},
   "outputs": [
    {
     "output_type": "stream",
     "name": "stdout",
     "text": "score: [0.77712363 0.77554668 0.77559924 0.78709983 0.78121222]\nconfu_matrix: [[55118 16215]\n [ 4776 19009]]\n"
    }
   ],
   "source": [
    "EvalAcc_Confumatrix(sgd_clf, X_prepared_train_set_reduced, Y_train_set)"
   ]
  },
  {
   "cell_type": "code",
   "execution_count": 32,
   "metadata": {},
   "outputs": [],
   "source": [
    "from sklearn.model_selection import cross_val_predict\n",
    "from sklearn.metrics import roc_curve\n",
    "from sklearn.metrics import roc_auc_score\n",
    "\n",
    "def EvalROCcurve_Plot(model, X, Y, cv = 5, method = \"decision_function\", \n",
    "                      styleplot = \"seaborn\", label = None, title = None):\n",
    "    result3 = cross_val_predict(model, X, Y, cv = cv, method = method)\n",
    "    result4 = roc_auc_score(Y, result3)\n",
    "    fpr, tpr, thresholds = roc_curve(Y, result3)\n",
    "    with plt.style.context(styleplot):\n",
    "        fig, ax = plt.subplots(figsize = (12, 8))\n",
    "        ax.plot(fpr, tpr, linewidth = 2, label = label)\n",
    "        ax.plot([0, 1], [0, 1], \"k--\")\n",
    "        ax.set(xlabel = \"Recall\", ylabel  = \"False Positive Rate\", title = title)\n",
    "    return result3\n",
    "    return result4"
   ]
  },
  {
   "cell_type": "code",
   "execution_count": null,
   "metadata": {},
   "outputs": [],
   "source": [
    "from sklearn.metrics import roc_curve\n",
    "\n",
    "fpr, tpr, thresholds = roc_curve(hotel_label_train_set,label_scores_pre)"
   ]
  },
  {
   "cell_type": "code",
   "execution_count": null,
   "metadata": {},
   "outputs": [],
   "source": []
  }
 ],
 "metadata": {
  "kernelspec": {
   "display_name": "Python 3",
   "language": "python",
   "name": "python3"
  },
  "language_info": {
   "codemirror_mode": {
    "name": "ipython",
    "version": 3
   },
   "file_extension": ".py",
   "mimetype": "text/x-python",
   "name": "python",
   "nbconvert_exporter": "python",
   "pygments_lexer": "ipython3",
   "version": "3.7.7-final"
  }
 },
 "nbformat": 4,
 "nbformat_minor": 2
}