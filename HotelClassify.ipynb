{
 "cells": [
  {
   "cell_type": "markdown",
   "metadata": {},
   "source": [
    "# Hotel Booking cancelation"
   ]
  },
  {
   "cell_type": "markdown",
   "metadata": {},
   "source": [
    "# Setup"
   ]
  },
  {
   "cell_type": "markdown",
   "metadata": {},
   "source": [
    "First, we import some few library for malipulate and visualize the data of cancelation of hotel in Portugal"
   ]
  },
  {
   "cell_type": "code",
   "execution_count": 1,
   "metadata": {},
   "outputs": [],
   "source": [
    "import pandas as pd\n",
    "import matplotlib.pyplot as plt\n",
    "import seaborn as sns\n",
    "import numpy as np"
   ]
  },
  {
   "cell_type": "markdown",
   "metadata": {},
   "source": [
    "# Get the data and manipulate"
   ]
  },
  {
   "cell_type": "code",
   "execution_count": 2,
   "metadata": {},
   "outputs": [
    {
     "output_type": "execute_result",
     "data": {
      "text/plain": "   id         hotel  is_canceled  lead_time  stays_in_weekend_nights  \\\n0   1  Resort Hotel            0          1                        0   \n1   2  Resort Hotel            0          1                        0   \n2   3    City Hotel            1         56                        0   \n3   4    City Hotel            0        213                        2   \n4   5  Resort Hotel            0        328                        4   \n\n   stays_in_week_nights  adults  children  babies meal country market_segment  \\\n0                     1       2       0.0       1   BB     PRT         Direct   \n1                     2       1       0.0       0   BB     PRT         Direct   \n2                     3       2       0.0       0   BB     PRT         Groups   \n3                     5       2       0.0       0   BB     GBR      Online TA   \n4                    10       2       0.0       0   BB     GBR  Offline TA/TO   \n\n  distribution_channel  is_repeated_guest  previous_cancellations  \\\n0               Direct                  0                       0   \n1               Direct                  0                       0   \n2                TA/TO                  0                       0   \n3                TA/TO                  0                       0   \n4                TA/TO                  0                       0   \n\n   previous_bookings_not_canceled reserved_room_type assigned_room_type  \\\n0                               0                  A                  A   \n1                               0                  A                  D   \n2                               0                  A                  A   \n3                               0                  A                  A   \n4                               0                  D                  D   \n\n   booking_changes  agent  company  days_in_waiting_list customer_type  \\\n0                1  250.0      0.0                     0     Transient   \n1                0    0.0      0.0                     0     Transient   \n2                0   29.0      0.0                     0     Transient   \n3                0    9.0      0.0                     0     Transient   \n4                0  243.0      0.0                     0      Contract   \n\n      adr  required_car_parking_spaces  total_of_special_requests arrival_date  \n0   55.00                            1                          0   2017-02-04  \n1   40.00                            0                          0   2016-03-04  \n2   60.00                            0                          0   2017-02-01  \n3  102.85                            0                          1   2016-10-05  \n4  121.50                            0                          2   2017-06-29  ",
      "text/html": "<div>\n<style scoped>\n    .dataframe tbody tr th:only-of-type {\n        vertical-align: middle;\n    }\n\n    .dataframe tbody tr th {\n        vertical-align: top;\n    }\n\n    .dataframe thead th {\n        text-align: right;\n    }\n</style>\n<table border=\"1\" class=\"dataframe\">\n  <thead>\n    <tr style=\"text-align: right;\">\n      <th></th>\n      <th>id</th>\n      <th>hotel</th>\n      <th>is_canceled</th>\n      <th>lead_time</th>\n      <th>stays_in_weekend_nights</th>\n      <th>stays_in_week_nights</th>\n      <th>adults</th>\n      <th>children</th>\n      <th>babies</th>\n      <th>meal</th>\n      <th>country</th>\n      <th>market_segment</th>\n      <th>distribution_channel</th>\n      <th>is_repeated_guest</th>\n      <th>previous_cancellations</th>\n      <th>previous_bookings_not_canceled</th>\n      <th>reserved_room_type</th>\n      <th>assigned_room_type</th>\n      <th>booking_changes</th>\n      <th>agent</th>\n      <th>company</th>\n      <th>days_in_waiting_list</th>\n      <th>customer_type</th>\n      <th>adr</th>\n      <th>required_car_parking_spaces</th>\n      <th>total_of_special_requests</th>\n      <th>arrival_date</th>\n    </tr>\n  </thead>\n  <tbody>\n    <tr>\n      <th>0</th>\n      <td>1</td>\n      <td>Resort Hotel</td>\n      <td>0</td>\n      <td>1</td>\n      <td>0</td>\n      <td>1</td>\n      <td>2</td>\n      <td>0.0</td>\n      <td>1</td>\n      <td>BB</td>\n      <td>PRT</td>\n      <td>Direct</td>\n      <td>Direct</td>\n      <td>0</td>\n      <td>0</td>\n      <td>0</td>\n      <td>A</td>\n      <td>A</td>\n      <td>1</td>\n      <td>250.0</td>\n      <td>0.0</td>\n      <td>0</td>\n      <td>Transient</td>\n      <td>55.00</td>\n      <td>1</td>\n      <td>0</td>\n      <td>2017-02-04</td>\n    </tr>\n    <tr>\n      <th>1</th>\n      <td>2</td>\n      <td>Resort Hotel</td>\n      <td>0</td>\n      <td>1</td>\n      <td>0</td>\n      <td>2</td>\n      <td>1</td>\n      <td>0.0</td>\n      <td>0</td>\n      <td>BB</td>\n      <td>PRT</td>\n      <td>Direct</td>\n      <td>Direct</td>\n      <td>0</td>\n      <td>0</td>\n      <td>0</td>\n      <td>A</td>\n      <td>D</td>\n      <td>0</td>\n      <td>0.0</td>\n      <td>0.0</td>\n      <td>0</td>\n      <td>Transient</td>\n      <td>40.00</td>\n      <td>0</td>\n      <td>0</td>\n      <td>2016-03-04</td>\n    </tr>\n    <tr>\n      <th>2</th>\n      <td>3</td>\n      <td>City Hotel</td>\n      <td>1</td>\n      <td>56</td>\n      <td>0</td>\n      <td>3</td>\n      <td>2</td>\n      <td>0.0</td>\n      <td>0</td>\n      <td>BB</td>\n      <td>PRT</td>\n      <td>Groups</td>\n      <td>TA/TO</td>\n      <td>0</td>\n      <td>0</td>\n      <td>0</td>\n      <td>A</td>\n      <td>A</td>\n      <td>0</td>\n      <td>29.0</td>\n      <td>0.0</td>\n      <td>0</td>\n      <td>Transient</td>\n      <td>60.00</td>\n      <td>0</td>\n      <td>0</td>\n      <td>2017-02-01</td>\n    </tr>\n    <tr>\n      <th>3</th>\n      <td>4</td>\n      <td>City Hotel</td>\n      <td>0</td>\n      <td>213</td>\n      <td>2</td>\n      <td>5</td>\n      <td>2</td>\n      <td>0.0</td>\n      <td>0</td>\n      <td>BB</td>\n      <td>GBR</td>\n      <td>Online TA</td>\n      <td>TA/TO</td>\n      <td>0</td>\n      <td>0</td>\n      <td>0</td>\n      <td>A</td>\n      <td>A</td>\n      <td>0</td>\n      <td>9.0</td>\n      <td>0.0</td>\n      <td>0</td>\n      <td>Transient</td>\n      <td>102.85</td>\n      <td>0</td>\n      <td>1</td>\n      <td>2016-10-05</td>\n    </tr>\n    <tr>\n      <th>4</th>\n      <td>5</td>\n      <td>Resort Hotel</td>\n      <td>0</td>\n      <td>328</td>\n      <td>4</td>\n      <td>10</td>\n      <td>2</td>\n      <td>0.0</td>\n      <td>0</td>\n      <td>BB</td>\n      <td>GBR</td>\n      <td>Offline TA/TO</td>\n      <td>TA/TO</td>\n      <td>0</td>\n      <td>0</td>\n      <td>0</td>\n      <td>D</td>\n      <td>D</td>\n      <td>0</td>\n      <td>243.0</td>\n      <td>0.0</td>\n      <td>0</td>\n      <td>Contract</td>\n      <td>121.50</td>\n      <td>0</td>\n      <td>2</td>\n      <td>2017-06-29</td>\n    </tr>\n  </tbody>\n</table>\n</div>"
     },
     "metadata": {},
     "execution_count": 2
    }
   ],
   "source": [
    "data = pd.read_csv(r\"C:\\Users\\Admin\\Data python\\data_all\\data_all\\train.csv\")\n",
    "pd.set_option('display.max_columns', 32)\n",
    "data.head()"
   ]
  },
  {
   "cell_type": "markdown",
   "metadata": {},
   "source": [
    "We can see that it have many column, we need deep dive in each of them to know exactly its data structure for feature engineering "
   ]
  },
  {
   "cell_type": "code",
   "execution_count": 3,
   "metadata": {},
   "outputs": [
    {
     "output_type": "stream",
     "name": "stdout",
     "text": "<class 'pandas.core.frame.DataFrame'>\nRangeIndex: 108785 entries, 0 to 108784\nData columns (total 27 columns):\n #   Column                          Non-Null Count   Dtype  \n---  ------                          --------------   -----  \n 0   id                              108785 non-null  int64  \n 1   hotel                           108785 non-null  object \n 2   is_canceled                     108785 non-null  int64  \n 3   lead_time                       108785 non-null  int64  \n 4   stays_in_weekend_nights         108785 non-null  int64  \n 5   stays_in_week_nights            108785 non-null  int64  \n 6   adults                          108785 non-null  int64  \n 7   children                        108785 non-null  float64\n 8   babies                          108785 non-null  int64  \n 9   meal                            108785 non-null  object \n 10  country                         108785 non-null  object \n 11  market_segment                  108785 non-null  object \n 12  distribution_channel            108785 non-null  object \n 13  is_repeated_guest               108785 non-null  int64  \n 14  previous_cancellations          108785 non-null  int64  \n 15  previous_bookings_not_canceled  108785 non-null  int64  \n 16  reserved_room_type              108785 non-null  object \n 17  assigned_room_type              108785 non-null  object \n 18  booking_changes                 108785 non-null  int64  \n 19  agent                           108785 non-null  float64\n 20  company                         108785 non-null  float64\n 21  days_in_waiting_list            108785 non-null  int64  \n 22  customer_type                   108785 non-null  object \n 23  adr                             108785 non-null  float64\n 24  required_car_parking_spaces     108785 non-null  int64  \n 25  total_of_special_requests       108785 non-null  int64  \n 26  arrival_date                    108785 non-null  object \ndtypes: float64(4), int64(14), object(9)\nmemory usage: 22.4+ MB\n"
    }
   ],
   "source": [
    "data.info()"
   ]
  },
  {
   "cell_type": "markdown",
   "metadata": {},
   "source": [
    "## Explain column meaning\n",
    "\n",
    "**hotel**：City hotel hoặc Resort Hotel\n",
    "\n",
    "**lead_time**：Số ngày từ khi đặt phòng đến ngày nghỉ trọ.\n",
    "\n",
    "**stays_in_weekend_nights**：Số ngày đặt phòng và nghỉ lại (Thứ 7, Chủ Nhật)\n",
    "\n",
    "**stays_in_week_nights**：Số ngày đặt phòng và nghỉ lại (Thứ 2 ~ Thứ 6)\n",
    "\n",
    "**country**：Quốc gia.\n",
    "\n",
    "**market_segment**：Phân loại thị trường(TA：Đại lý du lịch、TO：Điều hành du lịch)\n",
    "\n",
    "**distribution_channel**：kênh cung cấp(TA：Đại lý du lịch、TO：Điều hành du lịch)\n",
    "\n",
    "**is_repeated_guest**：có phải repeater hay không\n",
    "\n",
    "**previous_cancellations**：Đã từng hủy đặt phòng trước đây\n",
    "\n",
    "**previous_bookings_not_canceled**：chưa từng hủy đặt phòng trước đây\n",
    "\n",
    "**reserved_room_type**：Loại phòng đặt\n",
    "\n",
    "**assigned_room_type**：Loại phòng sắp xếp\n",
    "\n",
    "**booking_changes**：Số lần thay đổi đặt phòng\n",
    "\n",
    "**agent**：ẩn\n",
    "\n",
    "**company**：ẩn\n",
    "\n",
    "**days_in_waiting_list**：Số ngày lấy được xác nhận của khách hàng.\n",
    "\n",
    "**customer_type**：loại khách hàng\n",
    "\n",
    "**adr**：Tỉ giá trung bình ngày nghỉ trọ\n",
    "\n",
    "**required_car_parking_spaces**：Yêu cầu bao nhiêu chỗ đỗ xe\n",
    "\n",
    "**total_of_special_requests**：Số lượng yêu cầu đặc biệt.\n",
    "\n",
    "*Đây là bộ dữ liệu trích xuất từ hệ thống Quản lý khách sạn (PMS), vì thế tên khách sạn và đại lý đặt phòng sẽ được ẩn \n",
    "đi.*\n",
    "\n",
    "### Explain for meal\n",
    "\n",
    "**RO**: Room only\n",
    "\n",
    "**BB**: Bed & Breakfast\n",
    "\n",
    "**HB**: Half Board (Breakfast and Dinner normally)\n",
    "\n",
    "**FB**: Full Board (Beakfast, Lunch and Dinner)\n",
    "\n",
    "**AI**: All Inclusive (all services of full board plus any others specified in each case)"
   ]
  },
  {
   "cell_type": "markdown",
   "metadata": {},
   "source": [
    "That was so many column, we can see that have 2 type of column. It is categorical and continuous column. \n",
    "With categorical data, i will use OneHotEncode, and with continuous variables i will specify it distribution to know its structure"
   ]
  },
  {
   "cell_type": "markdown",
   "metadata": {},
   "source": [
    "The company and the agent have been hidden so it don't have many impact to the data, Id just indicate like index. Column hotel don't sketch any clear picture, it just city hotel and resort, it isn't too meaningful, but important if our project aim at predict at each hotel data come from. 'arrival_date' column just show time the guest comming which is crucial for time analyst we will do it later"
   ]
  },
  {
   "cell_type": "code",
   "execution_count": 4,
   "metadata": {},
   "outputs": [],
   "source": [
    "col = ['agent', 'company', 'id']\n",
    "\n",
    "hotel_book = data.drop(col, axis= 1)"
   ]
  },
  {
   "cell_type": "markdown",
   "metadata": {},
   "source": [
    "## Let deep dive to the categorical variables first"
   ]
  },
  {
   "cell_type": "markdown",
   "metadata": {},
   "source": [
    "Take a look at all variables categorical data and know how many values each variables"
   ]
  },
  {
   "cell_type": "code",
   "execution_count": 8,
   "metadata": {},
   "outputs": [
    {
     "output_type": "stream",
     "name": "stdout",
     "text": "Column name is: meal and it value is: BB    85099\nHB    12705\nSC    10238\nFB      743\nName: meal, dtype: int64\n\nColumn name is: country and it value is: PRT    45865\nGBR    10764\nFRA     9498\nESP     7614\nDEU     6387\n       ...  \nMDG        1\nCOM        1\nNIC        1\nLCA        1\nPLW        1\nName: country, Length: 173, dtype: int64\n\nColumn name is: market_segment and it value is: Online TA        49545\nOffline TA/TO    22682\nGroups           19354\nDirect           11196\nCorporate         5079\nComplementary      697\nAviation           230\nUndefined            2\nName: market_segment, dtype: int64\n\nColumn name is: distribution_channel and it value is: TA/TO        88940\nDirect       13203\nCorporate     6449\nGDS            188\nUndefined        5\nName: distribution_channel, dtype: int64\n\nColumn name is: reserved_room_type and it value is: A    79728\nD    16771\nE     5708\nF     2536\nG     1796\nB     1041\nC      689\nH      510\nL        6\nName: reserved_room_type, dtype: int64\n\nColumn name is: assigned_room_type and it value is: A    68162\nD    22832\nE     6967\nF     3354\nG     2226\nB     2068\nC     2068\nH      616\nI      327\nK      164\nL        1\nName: assigned_room_type, dtype: int64\n\nColumn name is: customer_type and it value is: Transient          80589\nTransient-Party    23808\nContract            3864\nGroup                524\nName: customer_type, dtype: int64\n\n"
    }
   ],
   "source": [
    "# Categorical data\n",
    "col = ['meal', 'country',\"market_segment\", 'distribution_channel', 'reserved_room_type', 'assigned_room_type',\"customer_type\"]\n",
    "\n",
    "for i in hotel_book[col]:\n",
    "    x = hotel_book[i].value_counts()\n",
    "    print(\"Column name is:\",i,\"and it value is:\",x)\n",
    "    print()"
   ]
  },
  {
   "cell_type": "markdown",
   "metadata": {},
   "source": [
    "**meal country**:5\n",
    "\n",
    "**market_segment**: 177\n",
    "\n",
    "**market_segment**: 8 \n",
    "\n",
    "**distribution_channel**: 5 \n",
    "\n",
    "**reserved_room_type**: 9\n",
    "\n",
    "**assigned_room_type**: 11\n",
    "\n",
    "**deposit_type**: 3\n",
    "\n",
    "**customer_type**: 4"
   ]
  },
  {
   "cell_type": "markdown",
   "metadata": {},
   "source": [
    "we can see that market_segment and distribution_channel and undefined values and it one have 7 values in order to make make it no affected to the others values so i decide to remove undefined as an outlier of data"
   ]
  },
  {
   "cell_type": "code",
   "execution_count": 5,
   "metadata": {},
   "outputs": [],
   "source": [
    "# Take the index of the value we want\n",
    "index_drop3 = list(hotel_book[(hotel_book['market_segment'] == 'Undefined') & \n",
    "                               (hotel_book['distribution_channel'] == 'Undefined')].index)\n",
    "\n",
    "hotel_book = hotel_book.drop(index_drop3, axis = 0)"
   ]
  },
  {
   "cell_type": "markdown",
   "metadata": {},
   "source": [
    "## Now let let take a look at continuous variables"
   ]
  },
  {
   "cell_type": "code",
   "execution_count": 10,
   "metadata": {},
   "outputs": [
    {
     "output_type": "execute_result",
     "data": {
      "text/plain": "         is_canceled      lead_time  stays_in_weekend_nights  \\\ncount  108783.000000  108783.000000            108783.000000   \nmean        0.370674     100.161661                 0.909453   \nstd         0.482987     104.953242                 0.992508   \nmin         0.000000       0.000000                 0.000000   \n25%         0.000000      17.000000                 0.000000   \n50%         0.000000      65.000000                 1.000000   \n75%         1.000000     152.000000                 2.000000   \nmax         1.000000     737.000000                19.000000   \n\n       stays_in_week_nights         adults       children         babies  \\\ncount         108783.000000  108783.000000  108783.000000  108783.000000   \nmean               2.464962       1.845252       0.092377       0.007952   \nstd                1.887036       0.582489       0.377312       0.098158   \nmin                0.000000       0.000000       0.000000       0.000000   \n25%                1.000000       2.000000       0.000000       0.000000   \n50%                2.000000       2.000000       0.000000       0.000000   \n75%                3.000000       2.000000       0.000000       0.000000   \nmax               50.000000      55.000000      10.000000      10.000000   \n\n       is_repeated_guest  previous_cancellations  \\\ncount      108783.000000           108783.000000   \nmean            0.032542                0.094408   \nstd             0.177435                0.881887   \nmin             0.000000                0.000000   \n25%             0.000000                0.000000   \n50%             0.000000                0.000000   \n75%             0.000000                0.000000   \nmax             1.000000               26.000000   \n\n       previous_bookings_not_canceled  booking_changes  days_in_waiting_list  \\\ncount                   108783.000000    108783.000000         108783.000000   \nmean                         0.136961         0.211752              2.540296   \nstd                          1.448237         0.626868             18.401677   \nmin                          0.000000         0.000000              0.000000   \n25%                          0.000000         0.000000              0.000000   \n50%                          0.000000         0.000000              0.000000   \n75%                          0.000000         0.000000              0.000000   \nmax                         67.000000        18.000000            391.000000   \n\n                 adr  required_car_parking_spaces  total_of_special_requests  \ncount  108783.000000                108783.000000              108783.000000  \nmean       97.086916                     0.063098                   0.544221  \nstd        46.909768                     0.246520                   0.777143  \nmin        -6.380000                     0.000000                   0.000000  \n25%        66.500000                     0.000000                   0.000000  \n50%        90.000000                     0.000000                   0.000000  \n75%       120.000000                     0.000000                   1.000000  \nmax      5400.000000                     8.000000                   5.000000  ",
      "text/html": "<div>\n<style scoped>\n    .dataframe tbody tr th:only-of-type {\n        vertical-align: middle;\n    }\n\n    .dataframe tbody tr th {\n        vertical-align: top;\n    }\n\n    .dataframe thead th {\n        text-align: right;\n    }\n</style>\n<table border=\"1\" class=\"dataframe\">\n  <thead>\n    <tr style=\"text-align: right;\">\n      <th></th>\n      <th>is_canceled</th>\n      <th>lead_time</th>\n      <th>stays_in_weekend_nights</th>\n      <th>stays_in_week_nights</th>\n      <th>adults</th>\n      <th>children</th>\n      <th>babies</th>\n      <th>is_repeated_guest</th>\n      <th>previous_cancellations</th>\n      <th>previous_bookings_not_canceled</th>\n      <th>booking_changes</th>\n      <th>days_in_waiting_list</th>\n      <th>adr</th>\n      <th>required_car_parking_spaces</th>\n      <th>total_of_special_requests</th>\n    </tr>\n  </thead>\n  <tbody>\n    <tr>\n      <th>count</th>\n      <td>108783.000000</td>\n      <td>108783.000000</td>\n      <td>108783.000000</td>\n      <td>108783.000000</td>\n      <td>108783.000000</td>\n      <td>108783.000000</td>\n      <td>108783.000000</td>\n      <td>108783.000000</td>\n      <td>108783.000000</td>\n      <td>108783.000000</td>\n      <td>108783.000000</td>\n      <td>108783.000000</td>\n      <td>108783.000000</td>\n      <td>108783.000000</td>\n      <td>108783.000000</td>\n    </tr>\n    <tr>\n      <th>mean</th>\n      <td>0.370674</td>\n      <td>100.161661</td>\n      <td>0.909453</td>\n      <td>2.464962</td>\n      <td>1.845252</td>\n      <td>0.092377</td>\n      <td>0.007952</td>\n      <td>0.032542</td>\n      <td>0.094408</td>\n      <td>0.136961</td>\n      <td>0.211752</td>\n      <td>2.540296</td>\n      <td>97.086916</td>\n      <td>0.063098</td>\n      <td>0.544221</td>\n    </tr>\n    <tr>\n      <th>std</th>\n      <td>0.482987</td>\n      <td>104.953242</td>\n      <td>0.992508</td>\n      <td>1.887036</td>\n      <td>0.582489</td>\n      <td>0.377312</td>\n      <td>0.098158</td>\n      <td>0.177435</td>\n      <td>0.881887</td>\n      <td>1.448237</td>\n      <td>0.626868</td>\n      <td>18.401677</td>\n      <td>46.909768</td>\n      <td>0.246520</td>\n      <td>0.777143</td>\n    </tr>\n    <tr>\n      <th>min</th>\n      <td>0.000000</td>\n      <td>0.000000</td>\n      <td>0.000000</td>\n      <td>0.000000</td>\n      <td>0.000000</td>\n      <td>0.000000</td>\n      <td>0.000000</td>\n      <td>0.000000</td>\n      <td>0.000000</td>\n      <td>0.000000</td>\n      <td>0.000000</td>\n      <td>0.000000</td>\n      <td>-6.380000</td>\n      <td>0.000000</td>\n      <td>0.000000</td>\n    </tr>\n    <tr>\n      <th>25%</th>\n      <td>0.000000</td>\n      <td>17.000000</td>\n      <td>0.000000</td>\n      <td>1.000000</td>\n      <td>2.000000</td>\n      <td>0.000000</td>\n      <td>0.000000</td>\n      <td>0.000000</td>\n      <td>0.000000</td>\n      <td>0.000000</td>\n      <td>0.000000</td>\n      <td>0.000000</td>\n      <td>66.500000</td>\n      <td>0.000000</td>\n      <td>0.000000</td>\n    </tr>\n    <tr>\n      <th>50%</th>\n      <td>0.000000</td>\n      <td>65.000000</td>\n      <td>1.000000</td>\n      <td>2.000000</td>\n      <td>2.000000</td>\n      <td>0.000000</td>\n      <td>0.000000</td>\n      <td>0.000000</td>\n      <td>0.000000</td>\n      <td>0.000000</td>\n      <td>0.000000</td>\n      <td>0.000000</td>\n      <td>90.000000</td>\n      <td>0.000000</td>\n      <td>0.000000</td>\n    </tr>\n    <tr>\n      <th>75%</th>\n      <td>1.000000</td>\n      <td>152.000000</td>\n      <td>2.000000</td>\n      <td>3.000000</td>\n      <td>2.000000</td>\n      <td>0.000000</td>\n      <td>0.000000</td>\n      <td>0.000000</td>\n      <td>0.000000</td>\n      <td>0.000000</td>\n      <td>0.000000</td>\n      <td>0.000000</td>\n      <td>120.000000</td>\n      <td>0.000000</td>\n      <td>1.000000</td>\n    </tr>\n    <tr>\n      <th>max</th>\n      <td>1.000000</td>\n      <td>737.000000</td>\n      <td>19.000000</td>\n      <td>50.000000</td>\n      <td>55.000000</td>\n      <td>10.000000</td>\n      <td>10.000000</td>\n      <td>1.000000</td>\n      <td>26.000000</td>\n      <td>67.000000</td>\n      <td>18.000000</td>\n      <td>391.000000</td>\n      <td>5400.000000</td>\n      <td>8.000000</td>\n      <td>5.000000</td>\n    </tr>\n  </tbody>\n</table>\n</div>"
     },
     "metadata": {},
     "execution_count": 10
    }
   ],
   "source": [
    "hotel_book.describe()"
   ]
  },
  {
   "cell_type": "markdown",
   "metadata": {},
   "source": [
    "we can see adr column that the max of adr is 5400 is too far from distribution maybe its a mistake of typing of employee of some error of system. "
   ]
  },
  {
   "cell_type": "markdown",
   "metadata": {},
   "source": [
    "And min adr is -6.38 which adr is Average Daily Rate which must be bigger than zero which mean zero or smaller is not appropriate in this case so we will remove them. "
   ]
  },
  {
   "cell_type": "markdown",
   "metadata": {},
   "source": [
    "Columns \"stays_in_weekend_nights\" and 'stays_in_week_nights' has value is zero, this column mean the day the book, thus, it have to be non zero value so we will remove row which both column is zero. The adult column is so on, we can't booking with adult is zero se we will remove that row too."
   ]
  },
  {
   "cell_type": "code",
   "execution_count": 6,
   "metadata": {},
   "outputs": [],
   "source": [
    "# Remove 2 columns stays_in_weekend_nights and stays_in_week_nights is zero\n",
    "index_drop1 = list(hotel_book[(hotel_book[\"stays_in_weekend_nights\"] == 0) & \n",
    "                          (hotel_book[\"stays_in_week_nights\"] == 0)].index)\n",
    "# Remove which adr = 0\n",
    "index_drop2 = list(hotel_book[hotel_book[\"adr\"] <= 0].index)\n",
    "\n",
    "# Remove which adults = 0\n",
    "index_drop3 = list(hotel_book[hotel_book[\"adults\"] == 0].index)\n",
    "\n",
    "index_drop = index_drop1 + index_drop2 + index_drop3\n",
    "\n",
    "hotel_book = hotel_book.drop(index_drop, axis = 0)"
   ]
  },
  {
   "cell_type": "markdown",
   "metadata": {},
   "source": [
    "## Checking Nan value"
   ]
  },
  {
   "cell_type": "markdown",
   "metadata": {},
   "source": [
    "Check if any value is is Nan"
   ]
  },
  {
   "cell_type": "code",
   "execution_count": null,
   "metadata": {},
   "outputs": [],
   "source": [
    "hotel_book.isnull().any()"
   ]
  },
  {
   "cell_type": "markdown",
   "metadata": {},
   "source": [
    "Great! it don't have nan value"
   ]
  },
  {
   "cell_type": "markdown",
   "metadata": {},
   "source": [
    "# Analysis and visualize data"
   ]
  },
  {
   "cell_type": "markdown",
   "metadata": {},
   "source": [
    "1. How many bookings were canceled?\n",
    "2. Which month has the highest number of visitors?\n",
    "3. What is the monthly average daily rate per person over the year?\n",
    "4. Which country has the most number of hotel visitors?\n",
    "5. Which customer type contributes to the most hotel booking cancellations?\n",
    "6. Which month has the highest number of cancellations?"
   ]
  },
  {
   "cell_type": "code",
   "execution_count": 7,
   "metadata": {},
   "outputs": [
    {
     "output_type": "stream",
     "name": "stdout",
     "text": "<class 'pandas.core.frame.DataFrame'>\nInt64Index: 106840 entries, 0 to 108784\nData columns (total 24 columns):\n #   Column                          Non-Null Count   Dtype  \n---  ------                          --------------   -----  \n 0   hotel                           106840 non-null  object \n 1   is_canceled                     106840 non-null  int64  \n 2   lead_time                       106840 non-null  int64  \n 3   stays_in_weekend_nights         106840 non-null  int64  \n 4   stays_in_week_nights            106840 non-null  int64  \n 5   adults                          106840 non-null  int64  \n 6   children                        106840 non-null  float64\n 7   babies                          106840 non-null  int64  \n 8   meal                            106840 non-null  object \n 9   country                         106840 non-null  object \n 10  market_segment                  106840 non-null  object \n 11  distribution_channel            106840 non-null  object \n 12  is_repeated_guest               106840 non-null  int64  \n 13  previous_cancellations          106840 non-null  int64  \n 14  previous_bookings_not_canceled  106840 non-null  int64  \n 15  reserved_room_type              106840 non-null  object \n 16  assigned_room_type              106840 non-null  object \n 17  booking_changes                 106840 non-null  int64  \n 18  days_in_waiting_list            106840 non-null  int64  \n 19  customer_type                   106840 non-null  object \n 20  adr                             106840 non-null  float64\n 21  required_car_parking_spaces     106840 non-null  int64  \n 22  total_of_special_requests       106840 non-null  int64  \n 23  arrival_date                    106840 non-null  object \ndtypes: float64(2), int64(13), object(9)\nmemory usage: 20.4+ MB\n"
    }
   ],
   "source": [
    "hotel_book.info()"
   ]
  },
  {
   "cell_type": "code",
   "execution_count": 51,
   "metadata": {},
   "outputs": [
    {
     "output_type": "execute_result",
     "data": {
      "text/plain": "          hotel  is_canceled   guests\n0    City Hotel            0  78508.0\n1    City Hotel            1  59177.0\n2  Resort Hotel            0  50241.0\n3  Resort Hotel            1  20127.0",
      "text/html": "<div>\n<style scoped>\n    .dataframe tbody tr th:only-of-type {\n        vertical-align: middle;\n    }\n\n    .dataframe tbody tr th {\n        vertical-align: top;\n    }\n\n    .dataframe thead th {\n        text-align: right;\n    }\n</style>\n<table border=\"1\" class=\"dataframe\">\n  <thead>\n    <tr style=\"text-align: right;\">\n      <th></th>\n      <th>hotel</th>\n      <th>is_canceled</th>\n      <th>guests</th>\n    </tr>\n  </thead>\n  <tbody>\n    <tr>\n      <th>0</th>\n      <td>City Hotel</td>\n      <td>0</td>\n      <td>78508.0</td>\n    </tr>\n    <tr>\n      <th>1</th>\n      <td>City Hotel</td>\n      <td>1</td>\n      <td>59177.0</td>\n    </tr>\n    <tr>\n      <th>2</th>\n      <td>Resort Hotel</td>\n      <td>0</td>\n      <td>50241.0</td>\n    </tr>\n    <tr>\n      <th>3</th>\n      <td>Resort Hotel</td>\n      <td>1</td>\n      <td>20127.0</td>\n    </tr>\n  </tbody>\n</table>\n</div>"
     },
     "metadata": {},
     "execution_count": 51
    }
   ],
   "source": [
    "barplot = hotel_book.copy()\n",
    "\n",
    "barplot['guests'] = barplot['adults'] + barplot['children'] + barplot['babies']\n",
    "\n",
    "col = [\"is_canceled\", \"guests\", \"hotel\"]\n",
    "\n",
    "barplot = barplot[col].groupby(['hotel',\"is_canceled\"]).sum().reset_index()\n",
    "barplot"
   ]
  },
  {
   "cell_type": "code",
   "execution_count": 171,
   "metadata": {},
   "outputs": [
    {
     "output_type": "display_data",
     "data": {
      "text/plain": "<Figure size 864x576 with 1 Axes>",
      "image/svg+xml": "<?xml version=\"1.0\" encoding=\"utf-8\" standalone=\"no\"?>\r\n<!DOCTYPE svg PUBLIC \"-//W3C//DTD SVG 1.1//EN\"\r\n  \"http://www.w3.org/Graphics/SVG/1.1/DTD/svg11.dtd\">\r\n<!-- Created with matplotlib (https://matplotlib.org/) -->\r\n<svg height=\"480.604062pt\" version=\"1.1\" viewBox=\"0 0 737.764375 480.604062\" width=\"737.764375pt\" xmlns=\"http://www.w3.org/2000/svg\" xmlns:xlink=\"http://www.w3.org/1999/xlink\">\r\n <defs>\r\n  <style type=\"text/css\">\r\n*{stroke-linecap:butt;stroke-linejoin:round;}\r\n  </style>\r\n </defs>\r\n <g id=\"figure_1\">\r\n  <g id=\"patch_1\">\r\n   <path d=\"M 0 480.604062 \r\nL 737.764375 480.604062 \r\nL 737.764375 0 \r\nL 0 0 \r\nz\r\n\" style=\"fill:#ffffff;\"/>\r\n  </g>\r\n  <g id=\"axes_1\">\r\n   <g id=\"patch_2\">\r\n    <path d=\"M 60.964375 442.08 \r\nL 730.564375 442.08 \r\nL 730.564375 7.2 \r\nL 60.964375 7.2 \r\nz\r\n\" style=\"fill:#eaeaf2;\"/>\r\n   </g>\r\n   <g id=\"matplotlib.axis_1\">\r\n    <g id=\"xtick_1\">\r\n     <g id=\"line2d_1\">\r\n      <path clip-path=\"url(#pa0162af2f1)\" d=\"M 216.726942 442.08 \r\nL 216.726942 7.2 \r\n\" style=\"fill:none;stroke:#ffffff;stroke-linecap:round;\"/>\r\n     </g>\r\n     <g id=\"line2d_2\"/>\r\n     <g id=\"text_1\">\r\n      <!-- 0 -->\r\n      <defs>\r\n       <path d=\"M 31.78125 66.40625 \r\nQ 24.171875 66.40625 20.328125 58.90625 \r\nQ 16.5 51.421875 16.5 36.375 \r\nQ 16.5 21.390625 20.328125 13.890625 \r\nQ 24.171875 6.390625 31.78125 6.390625 \r\nQ 39.453125 6.390625 43.28125 13.890625 \r\nQ 47.125 21.390625 47.125 36.375 \r\nQ 47.125 51.421875 43.28125 58.90625 \r\nQ 39.453125 66.40625 31.78125 66.40625 \r\nz\r\nM 31.78125 74.21875 \r\nQ 44.046875 74.21875 50.515625 64.515625 \r\nQ 56.984375 54.828125 56.984375 36.375 \r\nQ 56.984375 17.96875 50.515625 8.265625 \r\nQ 44.046875 -1.421875 31.78125 -1.421875 \r\nQ 19.53125 -1.421875 13.0625 8.265625 \r\nQ 6.59375 17.96875 6.59375 36.375 \r\nQ 6.59375 54.828125 13.0625 64.515625 \r\nQ 19.53125 74.21875 31.78125 74.21875 \r\nz\r\n\" id=\"DejaVuSans-48\"/>\r\n      </defs>\r\n      <g style=\"fill:#262626;\" transform=\"translate(213.545692 456.678437)scale(0.1 -0.1)\">\r\n       <use xlink:href=\"#DejaVuSans-48\"/>\r\n      </g>\r\n     </g>\r\n    </g>\r\n    <g id=\"xtick_2\">\r\n     <g id=\"line2d_3\">\r\n      <path clip-path=\"url(#pa0162af2f1)\" d=\"M 574.801808 442.08 \r\nL 574.801808 7.2 \r\n\" style=\"fill:none;stroke:#ffffff;stroke-linecap:round;\"/>\r\n     </g>\r\n     <g id=\"line2d_4\"/>\r\n     <g id=\"text_2\">\r\n      <!-- 1 -->\r\n      <defs>\r\n       <path d=\"M 12.40625 8.296875 \r\nL 28.515625 8.296875 \r\nL 28.515625 63.921875 \r\nL 10.984375 60.40625 \r\nL 10.984375 69.390625 \r\nL 28.421875 72.90625 \r\nL 38.28125 72.90625 \r\nL 38.28125 8.296875 \r\nL 54.390625 8.296875 \r\nL 54.390625 0 \r\nL 12.40625 0 \r\nz\r\n\" id=\"DejaVuSans-49\"/>\r\n      </defs>\r\n      <g style=\"fill:#262626;\" transform=\"translate(571.620558 456.678437)scale(0.1 -0.1)\">\r\n       <use xlink:href=\"#DejaVuSans-49\"/>\r\n      </g>\r\n     </g>\r\n    </g>\r\n    <g id=\"text_3\">\r\n     <!-- How many bookings were canceled (0 —  not canceled, 1 — canceled) -->\r\n     <defs>\r\n      <path d=\"M 9.8125 72.90625 \r\nL 19.671875 72.90625 \r\nL 19.671875 43.015625 \r\nL 55.515625 43.015625 \r\nL 55.515625 72.90625 \r\nL 65.375 72.90625 \r\nL 65.375 0 \r\nL 55.515625 0 \r\nL 55.515625 34.71875 \r\nL 19.671875 34.71875 \r\nL 19.671875 0 \r\nL 9.8125 0 \r\nz\r\n\" id=\"DejaVuSans-72\"/>\r\n      <path d=\"M 30.609375 48.390625 \r\nQ 23.390625 48.390625 19.1875 42.75 \r\nQ 14.984375 37.109375 14.984375 27.296875 \r\nQ 14.984375 17.484375 19.15625 11.84375 \r\nQ 23.34375 6.203125 30.609375 6.203125 \r\nQ 37.796875 6.203125 41.984375 11.859375 \r\nQ 46.1875 17.53125 46.1875 27.296875 \r\nQ 46.1875 37.015625 41.984375 42.703125 \r\nQ 37.796875 48.390625 30.609375 48.390625 \r\nz\r\nM 30.609375 56 \r\nQ 42.328125 56 49.015625 48.375 \r\nQ 55.71875 40.765625 55.71875 27.296875 \r\nQ 55.71875 13.875 49.015625 6.21875 \r\nQ 42.328125 -1.421875 30.609375 -1.421875 \r\nQ 18.84375 -1.421875 12.171875 6.21875 \r\nQ 5.515625 13.875 5.515625 27.296875 \r\nQ 5.515625 40.765625 12.171875 48.375 \r\nQ 18.84375 56 30.609375 56 \r\nz\r\n\" id=\"DejaVuSans-111\"/>\r\n      <path d=\"M 4.203125 54.6875 \r\nL 13.1875 54.6875 \r\nL 24.421875 12.015625 \r\nL 35.59375 54.6875 \r\nL 46.1875 54.6875 \r\nL 57.421875 12.015625 \r\nL 68.609375 54.6875 \r\nL 77.59375 54.6875 \r\nL 63.28125 0 \r\nL 52.6875 0 \r\nL 40.921875 44.828125 \r\nL 29.109375 0 \r\nL 18.5 0 \r\nz\r\n\" id=\"DejaVuSans-119\"/>\r\n      <path id=\"DejaVuSans-32\"/>\r\n      <path d=\"M 52 44.1875 \r\nQ 55.375 50.25 60.0625 53.125 \r\nQ 64.75 56 71.09375 56 \r\nQ 79.640625 56 84.28125 50.015625 \r\nQ 88.921875 44.046875 88.921875 33.015625 \r\nL 88.921875 0 \r\nL 79.890625 0 \r\nL 79.890625 32.71875 \r\nQ 79.890625 40.578125 77.09375 44.375 \r\nQ 74.3125 48.1875 68.609375 48.1875 \r\nQ 61.625 48.1875 57.5625 43.546875 \r\nQ 53.515625 38.921875 53.515625 30.90625 \r\nL 53.515625 0 \r\nL 44.484375 0 \r\nL 44.484375 32.71875 \r\nQ 44.484375 40.625 41.703125 44.40625 \r\nQ 38.921875 48.1875 33.109375 48.1875 \r\nQ 26.21875 48.1875 22.15625 43.53125 \r\nQ 18.109375 38.875 18.109375 30.90625 \r\nL 18.109375 0 \r\nL 9.078125 0 \r\nL 9.078125 54.6875 \r\nL 18.109375 54.6875 \r\nL 18.109375 46.1875 \r\nQ 21.1875 51.21875 25.484375 53.609375 \r\nQ 29.78125 56 35.6875 56 \r\nQ 41.65625 56 45.828125 52.96875 \r\nQ 50 49.953125 52 44.1875 \r\nz\r\n\" id=\"DejaVuSans-109\"/>\r\n      <path d=\"M 34.28125 27.484375 \r\nQ 23.390625 27.484375 19.1875 25 \r\nQ 14.984375 22.515625 14.984375 16.5 \r\nQ 14.984375 11.71875 18.140625 8.90625 \r\nQ 21.296875 6.109375 26.703125 6.109375 \r\nQ 34.1875 6.109375 38.703125 11.40625 \r\nQ 43.21875 16.703125 43.21875 25.484375 \r\nL 43.21875 27.484375 \r\nz\r\nM 52.203125 31.203125 \r\nL 52.203125 0 \r\nL 43.21875 0 \r\nL 43.21875 8.296875 \r\nQ 40.140625 3.328125 35.546875 0.953125 \r\nQ 30.953125 -1.421875 24.3125 -1.421875 \r\nQ 15.921875 -1.421875 10.953125 3.296875 \r\nQ 6 8.015625 6 15.921875 \r\nQ 6 25.140625 12.171875 29.828125 \r\nQ 18.359375 34.515625 30.609375 34.515625 \r\nL 43.21875 34.515625 \r\nL 43.21875 35.40625 \r\nQ 43.21875 41.609375 39.140625 45 \r\nQ 35.0625 48.390625 27.6875 48.390625 \r\nQ 23 48.390625 18.546875 47.265625 \r\nQ 14.109375 46.140625 10.015625 43.890625 \r\nL 10.015625 52.203125 \r\nQ 14.9375 54.109375 19.578125 55.046875 \r\nQ 24.21875 56 28.609375 56 \r\nQ 40.484375 56 46.34375 49.84375 \r\nQ 52.203125 43.703125 52.203125 31.203125 \r\nz\r\n\" id=\"DejaVuSans-97\"/>\r\n      <path d=\"M 54.890625 33.015625 \r\nL 54.890625 0 \r\nL 45.90625 0 \r\nL 45.90625 32.71875 \r\nQ 45.90625 40.484375 42.875 44.328125 \r\nQ 39.84375 48.1875 33.796875 48.1875 \r\nQ 26.515625 48.1875 22.3125 43.546875 \r\nQ 18.109375 38.921875 18.109375 30.90625 \r\nL 18.109375 0 \r\nL 9.078125 0 \r\nL 9.078125 54.6875 \r\nL 18.109375 54.6875 \r\nL 18.109375 46.1875 \r\nQ 21.34375 51.125 25.703125 53.5625 \r\nQ 30.078125 56 35.796875 56 \r\nQ 45.21875 56 50.046875 50.171875 \r\nQ 54.890625 44.34375 54.890625 33.015625 \r\nz\r\n\" id=\"DejaVuSans-110\"/>\r\n      <path d=\"M 32.171875 -5.078125 \r\nQ 28.375 -14.84375 24.75 -17.8125 \r\nQ 21.140625 -20.796875 15.09375 -20.796875 \r\nL 7.90625 -20.796875 \r\nL 7.90625 -13.28125 \r\nL 13.1875 -13.28125 \r\nQ 16.890625 -13.28125 18.9375 -11.515625 \r\nQ 21 -9.765625 23.484375 -3.21875 \r\nL 25.09375 0.875 \r\nL 2.984375 54.6875 \r\nL 12.5 54.6875 \r\nL 29.59375 11.921875 \r\nL 46.6875 54.6875 \r\nL 56.203125 54.6875 \r\nz\r\n\" id=\"DejaVuSans-121\"/>\r\n      <path d=\"M 48.6875 27.296875 \r\nQ 48.6875 37.203125 44.609375 42.84375 \r\nQ 40.53125 48.484375 33.40625 48.484375 \r\nQ 26.265625 48.484375 22.1875 42.84375 \r\nQ 18.109375 37.203125 18.109375 27.296875 \r\nQ 18.109375 17.390625 22.1875 11.75 \r\nQ 26.265625 6.109375 33.40625 6.109375 \r\nQ 40.53125 6.109375 44.609375 11.75 \r\nQ 48.6875 17.390625 48.6875 27.296875 \r\nz\r\nM 18.109375 46.390625 \r\nQ 20.953125 51.265625 25.265625 53.625 \r\nQ 29.59375 56 35.59375 56 \r\nQ 45.5625 56 51.78125 48.09375 \r\nQ 58.015625 40.1875 58.015625 27.296875 \r\nQ 58.015625 14.40625 51.78125 6.484375 \r\nQ 45.5625 -1.421875 35.59375 -1.421875 \r\nQ 29.59375 -1.421875 25.265625 0.953125 \r\nQ 20.953125 3.328125 18.109375 8.203125 \r\nL 18.109375 0 \r\nL 9.078125 0 \r\nL 9.078125 75.984375 \r\nL 18.109375 75.984375 \r\nz\r\n\" id=\"DejaVuSans-98\"/>\r\n      <path d=\"M 9.078125 75.984375 \r\nL 18.109375 75.984375 \r\nL 18.109375 31.109375 \r\nL 44.921875 54.6875 \r\nL 56.390625 54.6875 \r\nL 27.390625 29.109375 \r\nL 57.625 0 \r\nL 45.90625 0 \r\nL 18.109375 26.703125 \r\nL 18.109375 0 \r\nL 9.078125 0 \r\nz\r\n\" id=\"DejaVuSans-107\"/>\r\n      <path d=\"M 9.421875 54.6875 \r\nL 18.40625 54.6875 \r\nL 18.40625 0 \r\nL 9.421875 0 \r\nz\r\nM 9.421875 75.984375 \r\nL 18.40625 75.984375 \r\nL 18.40625 64.59375 \r\nL 9.421875 64.59375 \r\nz\r\n\" id=\"DejaVuSans-105\"/>\r\n      <path d=\"M 45.40625 27.984375 \r\nQ 45.40625 37.75 41.375 43.109375 \r\nQ 37.359375 48.484375 30.078125 48.484375 \r\nQ 22.859375 48.484375 18.828125 43.109375 \r\nQ 14.796875 37.75 14.796875 27.984375 \r\nQ 14.796875 18.265625 18.828125 12.890625 \r\nQ 22.859375 7.515625 30.078125 7.515625 \r\nQ 37.359375 7.515625 41.375 12.890625 \r\nQ 45.40625 18.265625 45.40625 27.984375 \r\nz\r\nM 54.390625 6.78125 \r\nQ 54.390625 -7.171875 48.1875 -13.984375 \r\nQ 42 -20.796875 29.203125 -20.796875 \r\nQ 24.46875 -20.796875 20.265625 -20.09375 \r\nQ 16.0625 -19.390625 12.109375 -17.921875 \r\nL 12.109375 -9.1875 \r\nQ 16.0625 -11.328125 19.921875 -12.34375 \r\nQ 23.78125 -13.375 27.78125 -13.375 \r\nQ 36.625 -13.375 41.015625 -8.765625 \r\nQ 45.40625 -4.15625 45.40625 5.171875 \r\nL 45.40625 9.625 \r\nQ 42.625 4.78125 38.28125 2.390625 \r\nQ 33.9375 0 27.875 0 \r\nQ 17.828125 0 11.671875 7.65625 \r\nQ 5.515625 15.328125 5.515625 27.984375 \r\nQ 5.515625 40.671875 11.671875 48.328125 \r\nQ 17.828125 56 27.875 56 \r\nQ 33.9375 56 38.28125 53.609375 \r\nQ 42.625 51.21875 45.40625 46.390625 \r\nL 45.40625 54.6875 \r\nL 54.390625 54.6875 \r\nz\r\n\" id=\"DejaVuSans-103\"/>\r\n      <path d=\"M 44.28125 53.078125 \r\nL 44.28125 44.578125 \r\nQ 40.484375 46.53125 36.375 47.5 \r\nQ 32.28125 48.484375 27.875 48.484375 \r\nQ 21.1875 48.484375 17.84375 46.4375 \r\nQ 14.5 44.390625 14.5 40.28125 \r\nQ 14.5 37.15625 16.890625 35.375 \r\nQ 19.28125 33.59375 26.515625 31.984375 \r\nL 29.59375 31.296875 \r\nQ 39.15625 29.25 43.1875 25.515625 \r\nQ 47.21875 21.78125 47.21875 15.09375 \r\nQ 47.21875 7.46875 41.1875 3.015625 \r\nQ 35.15625 -1.421875 24.609375 -1.421875 \r\nQ 20.21875 -1.421875 15.453125 -0.5625 \r\nQ 10.6875 0.296875 5.421875 2 \r\nL 5.421875 11.28125 \r\nQ 10.40625 8.6875 15.234375 7.390625 \r\nQ 20.0625 6.109375 24.8125 6.109375 \r\nQ 31.15625 6.109375 34.5625 8.28125 \r\nQ 37.984375 10.453125 37.984375 14.40625 \r\nQ 37.984375 18.0625 35.515625 20.015625 \r\nQ 33.0625 21.96875 24.703125 23.78125 \r\nL 21.578125 24.515625 \r\nQ 13.234375 26.265625 9.515625 29.90625 \r\nQ 5.8125 33.546875 5.8125 39.890625 \r\nQ 5.8125 47.609375 11.28125 51.796875 \r\nQ 16.75 56 26.8125 56 \r\nQ 31.78125 56 36.171875 55.265625 \r\nQ 40.578125 54.546875 44.28125 53.078125 \r\nz\r\n\" id=\"DejaVuSans-115\"/>\r\n      <path d=\"M 56.203125 29.59375 \r\nL 56.203125 25.203125 \r\nL 14.890625 25.203125 \r\nQ 15.484375 15.921875 20.484375 11.0625 \r\nQ 25.484375 6.203125 34.421875 6.203125 \r\nQ 39.59375 6.203125 44.453125 7.46875 \r\nQ 49.3125 8.734375 54.109375 11.28125 \r\nL 54.109375 2.78125 \r\nQ 49.265625 0.734375 44.1875 -0.34375 \r\nQ 39.109375 -1.421875 33.890625 -1.421875 \r\nQ 20.796875 -1.421875 13.15625 6.1875 \r\nQ 5.515625 13.8125 5.515625 26.8125 \r\nQ 5.515625 40.234375 12.765625 48.109375 \r\nQ 20.015625 56 32.328125 56 \r\nQ 43.359375 56 49.78125 48.890625 \r\nQ 56.203125 41.796875 56.203125 29.59375 \r\nz\r\nM 47.21875 32.234375 \r\nQ 47.125 39.59375 43.09375 43.984375 \r\nQ 39.0625 48.390625 32.421875 48.390625 \r\nQ 24.90625 48.390625 20.390625 44.140625 \r\nQ 15.875 39.890625 15.1875 32.171875 \r\nz\r\n\" id=\"DejaVuSans-101\"/>\r\n      <path d=\"M 41.109375 46.296875 \r\nQ 39.59375 47.171875 37.8125 47.578125 \r\nQ 36.03125 48 33.890625 48 \r\nQ 26.265625 48 22.1875 43.046875 \r\nQ 18.109375 38.09375 18.109375 28.8125 \r\nL 18.109375 0 \r\nL 9.078125 0 \r\nL 9.078125 54.6875 \r\nL 18.109375 54.6875 \r\nL 18.109375 46.1875 \r\nQ 20.953125 51.171875 25.484375 53.578125 \r\nQ 30.03125 56 36.53125 56 \r\nQ 37.453125 56 38.578125 55.875 \r\nQ 39.703125 55.765625 41.0625 55.515625 \r\nz\r\n\" id=\"DejaVuSans-114\"/>\r\n      <path d=\"M 48.78125 52.59375 \r\nL 48.78125 44.1875 \r\nQ 44.96875 46.296875 41.140625 47.34375 \r\nQ 37.3125 48.390625 33.40625 48.390625 \r\nQ 24.65625 48.390625 19.8125 42.84375 \r\nQ 14.984375 37.3125 14.984375 27.296875 \r\nQ 14.984375 17.28125 19.8125 11.734375 \r\nQ 24.65625 6.203125 33.40625 6.203125 \r\nQ 37.3125 6.203125 41.140625 7.25 \r\nQ 44.96875 8.296875 48.78125 10.40625 \r\nL 48.78125 2.09375 \r\nQ 45.015625 0.34375 40.984375 -0.53125 \r\nQ 36.96875 -1.421875 32.421875 -1.421875 \r\nQ 20.0625 -1.421875 12.78125 6.34375 \r\nQ 5.515625 14.109375 5.515625 27.296875 \r\nQ 5.515625 40.671875 12.859375 48.328125 \r\nQ 20.21875 56 33.015625 56 \r\nQ 37.15625 56 41.109375 55.140625 \r\nQ 45.0625 54.296875 48.78125 52.59375 \r\nz\r\n\" id=\"DejaVuSans-99\"/>\r\n      <path d=\"M 9.421875 75.984375 \r\nL 18.40625 75.984375 \r\nL 18.40625 0 \r\nL 9.421875 0 \r\nz\r\n\" id=\"DejaVuSans-108\"/>\r\n      <path d=\"M 45.40625 46.390625 \r\nL 45.40625 75.984375 \r\nL 54.390625 75.984375 \r\nL 54.390625 0 \r\nL 45.40625 0 \r\nL 45.40625 8.203125 \r\nQ 42.578125 3.328125 38.25 0.953125 \r\nQ 33.9375 -1.421875 27.875 -1.421875 \r\nQ 17.96875 -1.421875 11.734375 6.484375 \r\nQ 5.515625 14.40625 5.515625 27.296875 \r\nQ 5.515625 40.1875 11.734375 48.09375 \r\nQ 17.96875 56 27.875 56 \r\nQ 33.9375 56 38.25 53.625 \r\nQ 42.578125 51.265625 45.40625 46.390625 \r\nz\r\nM 14.796875 27.296875 \r\nQ 14.796875 17.390625 18.875 11.75 \r\nQ 22.953125 6.109375 30.078125 6.109375 \r\nQ 37.203125 6.109375 41.296875 11.75 \r\nQ 45.40625 17.390625 45.40625 27.296875 \r\nQ 45.40625 37.203125 41.296875 42.84375 \r\nQ 37.203125 48.484375 30.078125 48.484375 \r\nQ 22.953125 48.484375 18.875 42.84375 \r\nQ 14.796875 37.203125 14.796875 27.296875 \r\nz\r\n\" id=\"DejaVuSans-100\"/>\r\n      <path d=\"M 31 75.875 \r\nQ 24.46875 64.65625 21.28125 53.65625 \r\nQ 18.109375 42.671875 18.109375 31.390625 \r\nQ 18.109375 20.125 21.3125 9.0625 \r\nQ 24.515625 -2 31 -13.1875 \r\nL 23.1875 -13.1875 \r\nQ 15.875 -1.703125 12.234375 9.375 \r\nQ 8.59375 20.453125 8.59375 31.390625 \r\nQ 8.59375 42.28125 12.203125 53.3125 \r\nQ 15.828125 64.359375 23.1875 75.875 \r\nz\r\n\" id=\"DejaVuSans-40\"/>\r\n      <path d=\"M 4.890625 30.90625 \r\nL 95.125 30.90625 \r\nL 95.125 23.875 \r\nL 4.890625 23.875 \r\nz\r\n\" id=\"DejaVuSans-8212\"/>\r\n      <path d=\"M 18.3125 70.21875 \r\nL 18.3125 54.6875 \r\nL 36.8125 54.6875 \r\nL 36.8125 47.703125 \r\nL 18.3125 47.703125 \r\nL 18.3125 18.015625 \r\nQ 18.3125 11.328125 20.140625 9.421875 \r\nQ 21.96875 7.515625 27.59375 7.515625 \r\nL 36.8125 7.515625 \r\nL 36.8125 0 \r\nL 27.59375 0 \r\nQ 17.1875 0 13.234375 3.875 \r\nQ 9.28125 7.765625 9.28125 18.015625 \r\nL 9.28125 47.703125 \r\nL 2.6875 47.703125 \r\nL 2.6875 54.6875 \r\nL 9.28125 54.6875 \r\nL 9.28125 70.21875 \r\nz\r\n\" id=\"DejaVuSans-116\"/>\r\n      <path d=\"M 11.71875 12.40625 \r\nL 22.015625 12.40625 \r\nL 22.015625 4 \r\nL 14.015625 -11.625 \r\nL 7.71875 -11.625 \r\nL 11.71875 4 \r\nz\r\n\" id=\"DejaVuSans-44\"/>\r\n      <path d=\"M 8.015625 75.875 \r\nL 15.828125 75.875 \r\nQ 23.140625 64.359375 26.78125 53.3125 \r\nQ 30.421875 42.28125 30.421875 31.390625 \r\nQ 30.421875 20.453125 26.78125 9.375 \r\nQ 23.140625 -1.703125 15.828125 -13.1875 \r\nL 8.015625 -13.1875 \r\nQ 14.5 -2 17.703125 9.0625 \r\nQ 20.90625 20.125 20.90625 31.390625 \r\nQ 20.90625 42.671875 17.703125 53.65625 \r\nQ 14.5 64.65625 8.015625 75.875 \r\nz\r\n\" id=\"DejaVuSans-41\"/>\r\n     </defs>\r\n     <g style=\"fill:#262626;\" transform=\"translate(201.894531 471.116406)scale(0.11 -0.11)\">\r\n      <use xlink:href=\"#DejaVuSans-72\"/>\r\n      <use x=\"75.195312\" xlink:href=\"#DejaVuSans-111\"/>\r\n      <use x=\"136.376953\" xlink:href=\"#DejaVuSans-119\"/>\r\n      <use x=\"218.164062\" xlink:href=\"#DejaVuSans-32\"/>\r\n      <use x=\"249.951172\" xlink:href=\"#DejaVuSans-109\"/>\r\n      <use x=\"347.363281\" xlink:href=\"#DejaVuSans-97\"/>\r\n      <use x=\"408.642578\" xlink:href=\"#DejaVuSans-110\"/>\r\n      <use x=\"472.021484\" xlink:href=\"#DejaVuSans-121\"/>\r\n      <use x=\"531.201172\" xlink:href=\"#DejaVuSans-32\"/>\r\n      <use x=\"562.988281\" xlink:href=\"#DejaVuSans-98\"/>\r\n      <use x=\"626.464844\" xlink:href=\"#DejaVuSans-111\"/>\r\n      <use x=\"687.646484\" xlink:href=\"#DejaVuSans-111\"/>\r\n      <use x=\"748.828125\" xlink:href=\"#DejaVuSans-107\"/>\r\n      <use x=\"806.738281\" xlink:href=\"#DejaVuSans-105\"/>\r\n      <use x=\"834.521484\" xlink:href=\"#DejaVuSans-110\"/>\r\n      <use x=\"897.900391\" xlink:href=\"#DejaVuSans-103\"/>\r\n      <use x=\"961.376953\" xlink:href=\"#DejaVuSans-115\"/>\r\n      <use x=\"1013.476562\" xlink:href=\"#DejaVuSans-32\"/>\r\n      <use x=\"1045.263672\" xlink:href=\"#DejaVuSans-119\"/>\r\n      <use x=\"1127.050781\" xlink:href=\"#DejaVuSans-101\"/>\r\n      <use x=\"1188.574219\" xlink:href=\"#DejaVuSans-114\"/>\r\n      <use x=\"1229.65625\" xlink:href=\"#DejaVuSans-101\"/>\r\n      <use x=\"1291.179688\" xlink:href=\"#DejaVuSans-32\"/>\r\n      <use x=\"1322.966797\" xlink:href=\"#DejaVuSans-99\"/>\r\n      <use x=\"1377.947266\" xlink:href=\"#DejaVuSans-97\"/>\r\n      <use x=\"1439.226562\" xlink:href=\"#DejaVuSans-110\"/>\r\n      <use x=\"1502.605469\" xlink:href=\"#DejaVuSans-99\"/>\r\n      <use x=\"1557.585938\" xlink:href=\"#DejaVuSans-101\"/>\r\n      <use x=\"1619.109375\" xlink:href=\"#DejaVuSans-108\"/>\r\n      <use x=\"1646.892578\" xlink:href=\"#DejaVuSans-101\"/>\r\n      <use x=\"1708.416016\" xlink:href=\"#DejaVuSans-100\"/>\r\n      <use x=\"1771.892578\" xlink:href=\"#DejaVuSans-32\"/>\r\n      <use x=\"1803.679688\" xlink:href=\"#DejaVuSans-40\"/>\r\n      <use x=\"1842.693359\" xlink:href=\"#DejaVuSans-48\"/>\r\n      <use x=\"1906.316406\" xlink:href=\"#DejaVuSans-32\"/>\r\n      <use x=\"1938.103516\" xlink:href=\"#DejaVuSans-8212\"/>\r\n      <use x=\"2038.103516\" xlink:href=\"#DejaVuSans-32\"/>\r\n      <use x=\"2069.890625\" xlink:href=\"#DejaVuSans-32\"/>\r\n      <use x=\"2101.677734\" xlink:href=\"#DejaVuSans-110\"/>\r\n      <use x=\"2165.056641\" xlink:href=\"#DejaVuSans-111\"/>\r\n      <use x=\"2226.238281\" xlink:href=\"#DejaVuSans-116\"/>\r\n      <use x=\"2265.447266\" xlink:href=\"#DejaVuSans-32\"/>\r\n      <use x=\"2297.234375\" xlink:href=\"#DejaVuSans-99\"/>\r\n      <use x=\"2352.214844\" xlink:href=\"#DejaVuSans-97\"/>\r\n      <use x=\"2413.494141\" xlink:href=\"#DejaVuSans-110\"/>\r\n      <use x=\"2476.873047\" xlink:href=\"#DejaVuSans-99\"/>\r\n      <use x=\"2531.853516\" xlink:href=\"#DejaVuSans-101\"/>\r\n      <use x=\"2593.376953\" xlink:href=\"#DejaVuSans-108\"/>\r\n      <use x=\"2621.160156\" xlink:href=\"#DejaVuSans-101\"/>\r\n      <use x=\"2682.683594\" xlink:href=\"#DejaVuSans-100\"/>\r\n      <use x=\"2746.160156\" xlink:href=\"#DejaVuSans-44\"/>\r\n      <use x=\"2777.947266\" xlink:href=\"#DejaVuSans-32\"/>\r\n      <use x=\"2809.734375\" xlink:href=\"#DejaVuSans-49\"/>\r\n      <use x=\"2873.357422\" xlink:href=\"#DejaVuSans-32\"/>\r\n      <use x=\"2905.144531\" xlink:href=\"#DejaVuSans-8212\"/>\r\n      <use x=\"3005.144531\" xlink:href=\"#DejaVuSans-32\"/>\r\n      <use x=\"3036.931641\" xlink:href=\"#DejaVuSans-99\"/>\r\n      <use x=\"3091.912109\" xlink:href=\"#DejaVuSans-97\"/>\r\n      <use x=\"3153.191406\" xlink:href=\"#DejaVuSans-110\"/>\r\n      <use x=\"3216.570312\" xlink:href=\"#DejaVuSans-99\"/>\r\n      <use x=\"3271.550781\" xlink:href=\"#DejaVuSans-101\"/>\r\n      <use x=\"3333.074219\" xlink:href=\"#DejaVuSans-108\"/>\r\n      <use x=\"3360.857422\" xlink:href=\"#DejaVuSans-101\"/>\r\n      <use x=\"3422.380859\" xlink:href=\"#DejaVuSans-100\"/>\r\n      <use x=\"3485.857422\" xlink:href=\"#DejaVuSans-41\"/>\r\n     </g>\r\n    </g>\r\n   </g>\r\n   <g id=\"matplotlib.axis_2\">\r\n    <g id=\"ytick_1\">\r\n     <g id=\"line2d_5\">\r\n      <path clip-path=\"url(#pa0162af2f1)\" d=\"M 60.964375 442.08 \r\nL 730.564375 442.08 \r\n\" style=\"fill:none;stroke:#ffffff;stroke-linecap:round;\"/>\r\n     </g>\r\n     <g id=\"line2d_6\"/>\r\n     <g id=\"text_4\">\r\n      <!-- 0 -->\r\n      <g style=\"fill:#262626;\" transform=\"translate(47.601875 445.879219)scale(0.1 -0.1)\">\r\n       <use xlink:href=\"#DejaVuSans-48\"/>\r\n      </g>\r\n     </g>\r\n    </g>\r\n    <g id=\"ytick_2\">\r\n     <g id=\"line2d_7\">\r\n      <path clip-path=\"url(#pa0162af2f1)\" d=\"M 60.964375 389.324685 \r\nL 730.564375 389.324685 \r\n\" style=\"fill:none;stroke:#ffffff;stroke-linecap:round;\"/>\r\n     </g>\r\n     <g id=\"line2d_8\"/>\r\n     <g id=\"text_5\">\r\n      <!-- 10000 -->\r\n      <g style=\"fill:#262626;\" transform=\"translate(22.151875 393.123904)scale(0.1 -0.1)\">\r\n       <use xlink:href=\"#DejaVuSans-49\"/>\r\n       <use x=\"63.623047\" xlink:href=\"#DejaVuSans-48\"/>\r\n       <use x=\"127.246094\" xlink:href=\"#DejaVuSans-48\"/>\r\n       <use x=\"190.869141\" xlink:href=\"#DejaVuSans-48\"/>\r\n       <use x=\"254.492188\" xlink:href=\"#DejaVuSans-48\"/>\r\n      </g>\r\n     </g>\r\n    </g>\r\n    <g id=\"ytick_3\">\r\n     <g id=\"line2d_9\">\r\n      <path clip-path=\"url(#pa0162af2f1)\" d=\"M 60.964375 336.56937 \r\nL 730.564375 336.56937 \r\n\" style=\"fill:none;stroke:#ffffff;stroke-linecap:round;\"/>\r\n     </g>\r\n     <g id=\"line2d_10\"/>\r\n     <g id=\"text_6\">\r\n      <!-- 20000 -->\r\n      <defs>\r\n       <path d=\"M 19.1875 8.296875 \r\nL 53.609375 8.296875 \r\nL 53.609375 0 \r\nL 7.328125 0 \r\nL 7.328125 8.296875 \r\nQ 12.9375 14.109375 22.625 23.890625 \r\nQ 32.328125 33.6875 34.8125 36.53125 \r\nQ 39.546875 41.84375 41.421875 45.53125 \r\nQ 43.3125 49.21875 43.3125 52.78125 \r\nQ 43.3125 58.59375 39.234375 62.25 \r\nQ 35.15625 65.921875 28.609375 65.921875 \r\nQ 23.96875 65.921875 18.8125 64.3125 \r\nQ 13.671875 62.703125 7.8125 59.421875 \r\nL 7.8125 69.390625 \r\nQ 13.765625 71.78125 18.9375 73 \r\nQ 24.125 74.21875 28.421875 74.21875 \r\nQ 39.75 74.21875 46.484375 68.546875 \r\nQ 53.21875 62.890625 53.21875 53.421875 \r\nQ 53.21875 48.921875 51.53125 44.890625 \r\nQ 49.859375 40.875 45.40625 35.40625 \r\nQ 44.1875 33.984375 37.640625 27.21875 \r\nQ 31.109375 20.453125 19.1875 8.296875 \r\nz\r\n\" id=\"DejaVuSans-50\"/>\r\n      </defs>\r\n      <g style=\"fill:#262626;\" transform=\"translate(22.151875 340.368588)scale(0.1 -0.1)\">\r\n       <use xlink:href=\"#DejaVuSans-50\"/>\r\n       <use x=\"63.623047\" xlink:href=\"#DejaVuSans-48\"/>\r\n       <use x=\"127.246094\" xlink:href=\"#DejaVuSans-48\"/>\r\n       <use x=\"190.869141\" xlink:href=\"#DejaVuSans-48\"/>\r\n       <use x=\"254.492188\" xlink:href=\"#DejaVuSans-48\"/>\r\n      </g>\r\n     </g>\r\n    </g>\r\n    <g id=\"ytick_4\">\r\n     <g id=\"line2d_11\">\r\n      <path clip-path=\"url(#pa0162af2f1)\" d=\"M 60.964375 283.814054 \r\nL 730.564375 283.814054 \r\n\" style=\"fill:none;stroke:#ffffff;stroke-linecap:round;\"/>\r\n     </g>\r\n     <g id=\"line2d_12\"/>\r\n     <g id=\"text_7\">\r\n      <!-- 30000 -->\r\n      <defs>\r\n       <path d=\"M 40.578125 39.3125 \r\nQ 47.65625 37.796875 51.625 33 \r\nQ 55.609375 28.21875 55.609375 21.1875 \r\nQ 55.609375 10.40625 48.1875 4.484375 \r\nQ 40.765625 -1.421875 27.09375 -1.421875 \r\nQ 22.515625 -1.421875 17.65625 -0.515625 \r\nQ 12.796875 0.390625 7.625 2.203125 \r\nL 7.625 11.71875 \r\nQ 11.71875 9.328125 16.59375 8.109375 \r\nQ 21.484375 6.890625 26.8125 6.890625 \r\nQ 36.078125 6.890625 40.9375 10.546875 \r\nQ 45.796875 14.203125 45.796875 21.1875 \r\nQ 45.796875 27.640625 41.28125 31.265625 \r\nQ 36.765625 34.90625 28.71875 34.90625 \r\nL 20.21875 34.90625 \r\nL 20.21875 43.015625 \r\nL 29.109375 43.015625 \r\nQ 36.375 43.015625 40.234375 45.921875 \r\nQ 44.09375 48.828125 44.09375 54.296875 \r\nQ 44.09375 59.90625 40.109375 62.90625 \r\nQ 36.140625 65.921875 28.71875 65.921875 \r\nQ 24.65625 65.921875 20.015625 65.03125 \r\nQ 15.375 64.15625 9.8125 62.3125 \r\nL 9.8125 71.09375 \r\nQ 15.4375 72.65625 20.34375 73.4375 \r\nQ 25.25 74.21875 29.59375 74.21875 \r\nQ 40.828125 74.21875 47.359375 69.109375 \r\nQ 53.90625 64.015625 53.90625 55.328125 \r\nQ 53.90625 49.265625 50.4375 45.09375 \r\nQ 46.96875 40.921875 40.578125 39.3125 \r\nz\r\n\" id=\"DejaVuSans-51\"/>\r\n      </defs>\r\n      <g style=\"fill:#262626;\" transform=\"translate(22.151875 287.613273)scale(0.1 -0.1)\">\r\n       <use xlink:href=\"#DejaVuSans-51\"/>\r\n       <use x=\"63.623047\" xlink:href=\"#DejaVuSans-48\"/>\r\n       <use x=\"127.246094\" xlink:href=\"#DejaVuSans-48\"/>\r\n       <use x=\"190.869141\" xlink:href=\"#DejaVuSans-48\"/>\r\n       <use x=\"254.492188\" xlink:href=\"#DejaVuSans-48\"/>\r\n      </g>\r\n     </g>\r\n    </g>\r\n    <g id=\"ytick_5\">\r\n     <g id=\"line2d_13\">\r\n      <path clip-path=\"url(#pa0162af2f1)\" d=\"M 60.964375 231.058739 \r\nL 730.564375 231.058739 \r\n\" style=\"fill:none;stroke:#ffffff;stroke-linecap:round;\"/>\r\n     </g>\r\n     <g id=\"line2d_14\"/>\r\n     <g id=\"text_8\">\r\n      <!-- 40000 -->\r\n      <defs>\r\n       <path d=\"M 37.796875 64.3125 \r\nL 12.890625 25.390625 \r\nL 37.796875 25.390625 \r\nz\r\nM 35.203125 72.90625 \r\nL 47.609375 72.90625 \r\nL 47.609375 25.390625 \r\nL 58.015625 25.390625 \r\nL 58.015625 17.1875 \r\nL 47.609375 17.1875 \r\nL 47.609375 0 \r\nL 37.796875 0 \r\nL 37.796875 17.1875 \r\nL 4.890625 17.1875 \r\nL 4.890625 26.703125 \r\nz\r\n\" id=\"DejaVuSans-52\"/>\r\n      </defs>\r\n      <g style=\"fill:#262626;\" transform=\"translate(22.151875 234.857958)scale(0.1 -0.1)\">\r\n       <use xlink:href=\"#DejaVuSans-52\"/>\r\n       <use x=\"63.623047\" xlink:href=\"#DejaVuSans-48\"/>\r\n       <use x=\"127.246094\" xlink:href=\"#DejaVuSans-48\"/>\r\n       <use x=\"190.869141\" xlink:href=\"#DejaVuSans-48\"/>\r\n       <use x=\"254.492188\" xlink:href=\"#DejaVuSans-48\"/>\r\n      </g>\r\n     </g>\r\n    </g>\r\n    <g id=\"ytick_6\">\r\n     <g id=\"line2d_15\">\r\n      <path clip-path=\"url(#pa0162af2f1)\" d=\"M 60.964375 178.303424 \r\nL 730.564375 178.303424 \r\n\" style=\"fill:none;stroke:#ffffff;stroke-linecap:round;\"/>\r\n     </g>\r\n     <g id=\"line2d_16\"/>\r\n     <g id=\"text_9\">\r\n      <!-- 50000 -->\r\n      <defs>\r\n       <path d=\"M 10.796875 72.90625 \r\nL 49.515625 72.90625 \r\nL 49.515625 64.59375 \r\nL 19.828125 64.59375 \r\nL 19.828125 46.734375 \r\nQ 21.96875 47.46875 24.109375 47.828125 \r\nQ 26.265625 48.1875 28.421875 48.1875 \r\nQ 40.625 48.1875 47.75 41.5 \r\nQ 54.890625 34.8125 54.890625 23.390625 \r\nQ 54.890625 11.625 47.5625 5.09375 \r\nQ 40.234375 -1.421875 26.90625 -1.421875 \r\nQ 22.3125 -1.421875 17.546875 -0.640625 \r\nQ 12.796875 0.140625 7.71875 1.703125 \r\nL 7.71875 11.625 \r\nQ 12.109375 9.234375 16.796875 8.0625 \r\nQ 21.484375 6.890625 26.703125 6.890625 \r\nQ 35.15625 6.890625 40.078125 11.328125 \r\nQ 45.015625 15.765625 45.015625 23.390625 \r\nQ 45.015625 31 40.078125 35.4375 \r\nQ 35.15625 39.890625 26.703125 39.890625 \r\nQ 22.75 39.890625 18.8125 39.015625 \r\nQ 14.890625 38.140625 10.796875 36.28125 \r\nz\r\n\" id=\"DejaVuSans-53\"/>\r\n      </defs>\r\n      <g style=\"fill:#262626;\" transform=\"translate(22.151875 182.102643)scale(0.1 -0.1)\">\r\n       <use xlink:href=\"#DejaVuSans-53\"/>\r\n       <use x=\"63.623047\" xlink:href=\"#DejaVuSans-48\"/>\r\n       <use x=\"127.246094\" xlink:href=\"#DejaVuSans-48\"/>\r\n       <use x=\"190.869141\" xlink:href=\"#DejaVuSans-48\"/>\r\n       <use x=\"254.492188\" xlink:href=\"#DejaVuSans-48\"/>\r\n      </g>\r\n     </g>\r\n    </g>\r\n    <g id=\"ytick_7\">\r\n     <g id=\"line2d_17\">\r\n      <path clip-path=\"url(#pa0162af2f1)\" d=\"M 60.964375 125.548109 \r\nL 730.564375 125.548109 \r\n\" style=\"fill:none;stroke:#ffffff;stroke-linecap:round;\"/>\r\n     </g>\r\n     <g id=\"line2d_18\"/>\r\n     <g id=\"text_10\">\r\n      <!-- 60000 -->\r\n      <defs>\r\n       <path d=\"M 33.015625 40.375 \r\nQ 26.375 40.375 22.484375 35.828125 \r\nQ 18.609375 31.296875 18.609375 23.390625 \r\nQ 18.609375 15.53125 22.484375 10.953125 \r\nQ 26.375 6.390625 33.015625 6.390625 \r\nQ 39.65625 6.390625 43.53125 10.953125 \r\nQ 47.40625 15.53125 47.40625 23.390625 \r\nQ 47.40625 31.296875 43.53125 35.828125 \r\nQ 39.65625 40.375 33.015625 40.375 \r\nz\r\nM 52.59375 71.296875 \r\nL 52.59375 62.3125 \r\nQ 48.875 64.0625 45.09375 64.984375 \r\nQ 41.3125 65.921875 37.59375 65.921875 \r\nQ 27.828125 65.921875 22.671875 59.328125 \r\nQ 17.53125 52.734375 16.796875 39.40625 \r\nQ 19.671875 43.65625 24.015625 45.921875 \r\nQ 28.375 48.1875 33.59375 48.1875 \r\nQ 44.578125 48.1875 50.953125 41.515625 \r\nQ 57.328125 34.859375 57.328125 23.390625 \r\nQ 57.328125 12.15625 50.6875 5.359375 \r\nQ 44.046875 -1.421875 33.015625 -1.421875 \r\nQ 20.359375 -1.421875 13.671875 8.265625 \r\nQ 6.984375 17.96875 6.984375 36.375 \r\nQ 6.984375 53.65625 15.1875 63.9375 \r\nQ 23.390625 74.21875 37.203125 74.21875 \r\nQ 40.921875 74.21875 44.703125 73.484375 \r\nQ 48.484375 72.75 52.59375 71.296875 \r\nz\r\n\" id=\"DejaVuSans-54\"/>\r\n      </defs>\r\n      <g style=\"fill:#262626;\" transform=\"translate(22.151875 129.347328)scale(0.1 -0.1)\">\r\n       <use xlink:href=\"#DejaVuSans-54\"/>\r\n       <use x=\"63.623047\" xlink:href=\"#DejaVuSans-48\"/>\r\n       <use x=\"127.246094\" xlink:href=\"#DejaVuSans-48\"/>\r\n       <use x=\"190.869141\" xlink:href=\"#DejaVuSans-48\"/>\r\n       <use x=\"254.492188\" xlink:href=\"#DejaVuSans-48\"/>\r\n      </g>\r\n     </g>\r\n    </g>\r\n    <g id=\"ytick_8\">\r\n     <g id=\"line2d_19\">\r\n      <path clip-path=\"url(#pa0162af2f1)\" d=\"M 60.964375 72.792794 \r\nL 730.564375 72.792794 \r\n\" style=\"fill:none;stroke:#ffffff;stroke-linecap:round;\"/>\r\n     </g>\r\n     <g id=\"line2d_20\"/>\r\n     <g id=\"text_11\">\r\n      <!-- 70000 -->\r\n      <defs>\r\n       <path d=\"M 8.203125 72.90625 \r\nL 55.078125 72.90625 \r\nL 55.078125 68.703125 \r\nL 28.609375 0 \r\nL 18.3125 0 \r\nL 43.21875 64.59375 \r\nL 8.203125 64.59375 \r\nz\r\n\" id=\"DejaVuSans-55\"/>\r\n      </defs>\r\n      <g style=\"fill:#262626;\" transform=\"translate(22.151875 76.592012)scale(0.1 -0.1)\">\r\n       <use xlink:href=\"#DejaVuSans-55\"/>\r\n       <use x=\"63.623047\" xlink:href=\"#DejaVuSans-48\"/>\r\n       <use x=\"127.246094\" xlink:href=\"#DejaVuSans-48\"/>\r\n       <use x=\"190.869141\" xlink:href=\"#DejaVuSans-48\"/>\r\n       <use x=\"254.492188\" xlink:href=\"#DejaVuSans-48\"/>\r\n      </g>\r\n     </g>\r\n    </g>\r\n    <g id=\"ytick_9\">\r\n     <g id=\"line2d_21\">\r\n      <path clip-path=\"url(#pa0162af2f1)\" d=\"M 60.964375 20.037478 \r\nL 730.564375 20.037478 \r\n\" style=\"fill:none;stroke:#ffffff;stroke-linecap:round;\"/>\r\n     </g>\r\n     <g id=\"line2d_22\"/>\r\n     <g id=\"text_12\">\r\n      <!-- 80000 -->\r\n      <defs>\r\n       <path d=\"M 31.78125 34.625 \r\nQ 24.75 34.625 20.71875 30.859375 \r\nQ 16.703125 27.09375 16.703125 20.515625 \r\nQ 16.703125 13.921875 20.71875 10.15625 \r\nQ 24.75 6.390625 31.78125 6.390625 \r\nQ 38.8125 6.390625 42.859375 10.171875 \r\nQ 46.921875 13.96875 46.921875 20.515625 \r\nQ 46.921875 27.09375 42.890625 30.859375 \r\nQ 38.875 34.625 31.78125 34.625 \r\nz\r\nM 21.921875 38.8125 \r\nQ 15.578125 40.375 12.03125 44.71875 \r\nQ 8.5 49.078125 8.5 55.328125 \r\nQ 8.5 64.0625 14.71875 69.140625 \r\nQ 20.953125 74.21875 31.78125 74.21875 \r\nQ 42.671875 74.21875 48.875 69.140625 \r\nQ 55.078125 64.0625 55.078125 55.328125 \r\nQ 55.078125 49.078125 51.53125 44.71875 \r\nQ 48 40.375 41.703125 38.8125 \r\nQ 48.828125 37.15625 52.796875 32.3125 \r\nQ 56.78125 27.484375 56.78125 20.515625 \r\nQ 56.78125 9.90625 50.3125 4.234375 \r\nQ 43.84375 -1.421875 31.78125 -1.421875 \r\nQ 19.734375 -1.421875 13.25 4.234375 \r\nQ 6.78125 9.90625 6.78125 20.515625 \r\nQ 6.78125 27.484375 10.78125 32.3125 \r\nQ 14.796875 37.15625 21.921875 38.8125 \r\nz\r\nM 18.3125 54.390625 \r\nQ 18.3125 48.734375 21.84375 45.5625 \r\nQ 25.390625 42.390625 31.78125 42.390625 \r\nQ 38.140625 42.390625 41.71875 45.5625 \r\nQ 45.3125 48.734375 45.3125 54.390625 \r\nQ 45.3125 60.0625 41.71875 63.234375 \r\nQ 38.140625 66.40625 31.78125 66.40625 \r\nQ 25.390625 66.40625 21.84375 63.234375 \r\nQ 18.3125 60.0625 18.3125 54.390625 \r\nz\r\n\" id=\"DejaVuSans-56\"/>\r\n      </defs>\r\n      <g style=\"fill:#262626;\" transform=\"translate(22.151875 23.836697)scale(0.1 -0.1)\">\r\n       <use xlink:href=\"#DejaVuSans-56\"/>\r\n       <use x=\"63.623047\" xlink:href=\"#DejaVuSans-48\"/>\r\n       <use x=\"127.246094\" xlink:href=\"#DejaVuSans-48\"/>\r\n       <use x=\"190.869141\" xlink:href=\"#DejaVuSans-48\"/>\r\n       <use x=\"254.492188\" xlink:href=\"#DejaVuSans-48\"/>\r\n      </g>\r\n     </g>\r\n    </g>\r\n    <g id=\"text_13\">\r\n     <!-- Total_guests -->\r\n     <defs>\r\n      <path d=\"M -0.296875 72.90625 \r\nL 61.375 72.90625 \r\nL 61.375 64.59375 \r\nL 35.5 64.59375 \r\nL 35.5 0 \r\nL 25.59375 0 \r\nL 25.59375 64.59375 \r\nL -0.296875 64.59375 \r\nz\r\n\" id=\"DejaVuSans-84\"/>\r\n      <path d=\"M 50.984375 -16.609375 \r\nL 50.984375 -23.578125 \r\nL -0.984375 -23.578125 \r\nL -0.984375 -16.609375 \r\nz\r\n\" id=\"DejaVuSans-95\"/>\r\n      <path d=\"M 8.5 21.578125 \r\nL 8.5 54.6875 \r\nL 17.484375 54.6875 \r\nL 17.484375 21.921875 \r\nQ 17.484375 14.15625 20.5 10.265625 \r\nQ 23.53125 6.390625 29.59375 6.390625 \r\nQ 36.859375 6.390625 41.078125 11.03125 \r\nQ 45.3125 15.671875 45.3125 23.6875 \r\nL 45.3125 54.6875 \r\nL 54.296875 54.6875 \r\nL 54.296875 0 \r\nL 45.3125 0 \r\nL 45.3125 8.40625 \r\nQ 42.046875 3.421875 37.71875 1 \r\nQ 33.40625 -1.421875 27.6875 -1.421875 \r\nQ 18.265625 -1.421875 13.375 4.4375 \r\nQ 8.5 10.296875 8.5 21.578125 \r\nz\r\nM 31.109375 56 \r\nz\r\n\" id=\"DejaVuSans-117\"/>\r\n     </defs>\r\n     <g style=\"fill:#262626;\" transform=\"translate(15.558281 259.402578)rotate(-90)scale(0.11 -0.11)\">\r\n      <use xlink:href=\"#DejaVuSans-84\"/>\r\n      <use x=\"60.818359\" xlink:href=\"#DejaVuSans-111\"/>\r\n      <use x=\"122\" xlink:href=\"#DejaVuSans-116\"/>\r\n      <use x=\"161.208984\" xlink:href=\"#DejaVuSans-97\"/>\r\n      <use x=\"222.488281\" xlink:href=\"#DejaVuSans-108\"/>\r\n      <use x=\"250.271484\" xlink:href=\"#DejaVuSans-95\"/>\r\n      <use x=\"300.271484\" xlink:href=\"#DejaVuSans-103\"/>\r\n      <use x=\"363.748047\" xlink:href=\"#DejaVuSans-117\"/>\r\n      <use x=\"427.126953\" xlink:href=\"#DejaVuSans-101\"/>\r\n      <use x=\"488.650391\" xlink:href=\"#DejaVuSans-115\"/>\r\n      <use x=\"540.75\" xlink:href=\"#DejaVuSans-116\"/>\r\n      <use x=\"579.958984\" xlink:href=\"#DejaVuSans-115\"/>\r\n     </g>\r\n    </g>\r\n   </g>\r\n   <g id=\"patch_3\">\r\n    <path clip-path=\"url(#pa0162af2f1)\" d=\"M 91.400739 442.08 \r\nL 216.726942 442.08 \r\nL 216.726942 27.908571 \r\nL 91.400739 27.908571 \r\nz\r\n\" style=\"fill:#b3ffb3;\"/>\r\n   </g>\r\n   <g id=\"patch_4\">\r\n    <path clip-path=\"url(#pa0162af2f1)\" d=\"M 449.475605 442.08 \r\nL 574.801808 442.08 \r\nL 574.801808 129.889871 \r\nL 449.475605 129.889871 \r\nz\r\n\" style=\"fill:#b3ffb3;\"/>\r\n   </g>\r\n   <g id=\"patch_5\">\r\n    <path clip-path=\"url(#pa0162af2f1)\" d=\"M 216.726942 442.08 \r\nL 342.053145 442.08 \r\nL 342.053145 177.032021 \r\nL 216.726942 177.032021 \r\nz\r\n\" style=\"fill:#ffc266;\"/>\r\n   </g>\r\n   <g id=\"patch_6\">\r\n    <path clip-path=\"url(#pa0162af2f1)\" d=\"M 574.801808 442.08 \r\nL 700.128011 442.08 \r\nL 700.128011 335.899377 \r\nL 574.801808 335.899377 \r\nz\r\n\" style=\"fill:#ffc266;\"/>\r\n   </g>\r\n   <g id=\"patch_7\">\r\n    <path d=\"M 60.964375 442.08 \r\nL 60.964375 7.2 \r\n\" style=\"fill:none;\"/>\r\n   </g>\r\n   <g id=\"patch_8\">\r\n    <path d=\"M 730.564375 442.08 \r\nL 730.564375 7.2 \r\n\" style=\"fill:none;\"/>\r\n   </g>\r\n   <g id=\"patch_9\">\r\n    <path d=\"M 60.964375 442.08 \r\nL 730.564375 442.08 \r\n\" style=\"fill:none;\"/>\r\n   </g>\r\n   <g id=\"patch_10\">\r\n    <path d=\"M 60.964375 7.2 \r\nL 730.564375 7.2 \r\n\" style=\"fill:none;\"/>\r\n   </g>\r\n   <g id=\"text_14\">\r\n    <!-- 78508.0 -->\r\n    <defs>\r\n     <path d=\"M 10.6875 12.40625 \r\nL 21 12.40625 \r\nL 21 0 \r\nL 10.6875 0 \r\nz\r\n\" id=\"DejaVuSans-46\"/>\r\n    </defs>\r\n    <g style=\"fill:#262626;\" transform=\"translate(123.048996 27.903296)scale(0.15 -0.15)\">\r\n     <use xlink:href=\"#DejaVuSans-55\"/>\r\n     <use x=\"63.623047\" xlink:href=\"#DejaVuSans-56\"/>\r\n     <use x=\"127.246094\" xlink:href=\"#DejaVuSans-53\"/>\r\n     <use x=\"190.869141\" xlink:href=\"#DejaVuSans-48\"/>\r\n     <use x=\"254.492188\" xlink:href=\"#DejaVuSans-56\"/>\r\n     <use x=\"318.115234\" xlink:href=\"#DejaVuSans-46\"/>\r\n     <use x=\"349.902344\" xlink:href=\"#DejaVuSans-48\"/>\r\n    </g>\r\n   </g>\r\n   <g id=\"text_15\">\r\n    <!-- 59177.0 -->\r\n    <defs>\r\n     <path d=\"M 10.984375 1.515625 \r\nL 10.984375 10.5 \r\nQ 14.703125 8.734375 18.5 7.8125 \r\nQ 22.3125 6.890625 25.984375 6.890625 \r\nQ 35.75 6.890625 40.890625 13.453125 \r\nQ 46.046875 20.015625 46.78125 33.40625 \r\nQ 43.953125 29.203125 39.59375 26.953125 \r\nQ 35.25 24.703125 29.984375 24.703125 \r\nQ 19.046875 24.703125 12.671875 31.3125 \r\nQ 6.296875 37.9375 6.296875 49.421875 \r\nQ 6.296875 60.640625 12.9375 67.421875 \r\nQ 19.578125 74.21875 30.609375 74.21875 \r\nQ 43.265625 74.21875 49.921875 64.515625 \r\nQ 56.59375 54.828125 56.59375 36.375 \r\nQ 56.59375 19.140625 48.40625 8.859375 \r\nQ 40.234375 -1.421875 26.421875 -1.421875 \r\nQ 22.703125 -1.421875 18.890625 -0.6875 \r\nQ 15.09375 0.046875 10.984375 1.515625 \r\nz\r\nM 30.609375 32.421875 \r\nQ 37.25 32.421875 41.125 36.953125 \r\nQ 45.015625 41.5 45.015625 49.421875 \r\nQ 45.015625 57.28125 41.125 61.84375 \r\nQ 37.25 66.40625 30.609375 66.40625 \r\nQ 23.96875 66.40625 20.09375 61.84375 \r\nQ 16.21875 57.28125 16.21875 49.421875 \r\nQ 16.21875 41.5 20.09375 36.953125 \r\nQ 23.96875 32.421875 30.609375 32.421875 \r\nz\r\n\" id=\"DejaVuSans-57\"/>\r\n    </defs>\r\n    <g style=\"fill:#262626;\" transform=\"translate(481.123863 129.884596)scale(0.15 -0.15)\">\r\n     <use xlink:href=\"#DejaVuSans-53\"/>\r\n     <use x=\"63.623047\" xlink:href=\"#DejaVuSans-57\"/>\r\n     <use x=\"127.246094\" xlink:href=\"#DejaVuSans-49\"/>\r\n     <use x=\"190.869141\" xlink:href=\"#DejaVuSans-55\"/>\r\n     <use x=\"254.492188\" xlink:href=\"#DejaVuSans-55\"/>\r\n     <use x=\"318.115234\" xlink:href=\"#DejaVuSans-46\"/>\r\n     <use x=\"349.902344\" xlink:href=\"#DejaVuSans-48\"/>\r\n    </g>\r\n   </g>\r\n   <g id=\"text_16\">\r\n    <!-- 50241.0 -->\r\n    <g style=\"fill:#262626;\" transform=\"translate(248.3752 177.026745)scale(0.15 -0.15)\">\r\n     <use xlink:href=\"#DejaVuSans-53\"/>\r\n     <use x=\"63.623047\" xlink:href=\"#DejaVuSans-48\"/>\r\n     <use x=\"127.246094\" xlink:href=\"#DejaVuSans-50\"/>\r\n     <use x=\"190.869141\" xlink:href=\"#DejaVuSans-52\"/>\r\n     <use x=\"254.492188\" xlink:href=\"#DejaVuSans-49\"/>\r\n     <use x=\"318.115234\" xlink:href=\"#DejaVuSans-46\"/>\r\n     <use x=\"349.902344\" xlink:href=\"#DejaVuSans-48\"/>\r\n    </g>\r\n   </g>\r\n   <g id=\"text_17\">\r\n    <!-- 20127.0 -->\r\n    <g style=\"fill:#262626;\" transform=\"translate(606.450066 335.894102)scale(0.15 -0.15)\">\r\n     <use xlink:href=\"#DejaVuSans-50\"/>\r\n     <use x=\"63.623047\" xlink:href=\"#DejaVuSans-48\"/>\r\n     <use x=\"127.246094\" xlink:href=\"#DejaVuSans-49\"/>\r\n     <use x=\"190.869141\" xlink:href=\"#DejaVuSans-50\"/>\r\n     <use x=\"254.492188\" xlink:href=\"#DejaVuSans-55\"/>\r\n     <use x=\"318.115234\" xlink:href=\"#DejaVuSans-46\"/>\r\n     <use x=\"349.902344\" xlink:href=\"#DejaVuSans-48\"/>\r\n    </g>\r\n   </g>\r\n   <g id=\"legend_1\">\r\n    <g id=\"patch_11\">\r\n     <path d=\"M 532.3175 40.396875 \r\nL 572.3175 40.396875 \r\nL 572.3175 26.396875 \r\nL 532.3175 26.396875 \r\nz\r\n\" style=\"fill:#b3ffb3;\"/>\r\n    </g>\r\n    <g id=\"text_18\">\r\n     <!-- City Hotel -->\r\n     <defs>\r\n      <path d=\"M 64.40625 67.28125 \r\nL 64.40625 56.890625 \r\nQ 59.421875 61.53125 53.78125 63.8125 \r\nQ 48.140625 66.109375 41.796875 66.109375 \r\nQ 29.296875 66.109375 22.65625 58.46875 \r\nQ 16.015625 50.828125 16.015625 36.375 \r\nQ 16.015625 21.96875 22.65625 14.328125 \r\nQ 29.296875 6.6875 41.796875 6.6875 \r\nQ 48.140625 6.6875 53.78125 8.984375 \r\nQ 59.421875 11.28125 64.40625 15.921875 \r\nL 64.40625 5.609375 \r\nQ 59.234375 2.09375 53.4375 0.328125 \r\nQ 47.65625 -1.421875 41.21875 -1.421875 \r\nQ 24.65625 -1.421875 15.125 8.703125 \r\nQ 5.609375 18.84375 5.609375 36.375 \r\nQ 5.609375 53.953125 15.125 64.078125 \r\nQ 24.65625 74.21875 41.21875 74.21875 \r\nQ 47.75 74.21875 53.53125 72.484375 \r\nQ 59.328125 70.75 64.40625 67.28125 \r\nz\r\n\" id=\"DejaVuSans-67\"/>\r\n     </defs>\r\n     <g style=\"fill:#262626;\" transform=\"translate(588.3175 40.396875)scale(0.2 -0.2)\">\r\n      <use xlink:href=\"#DejaVuSans-67\"/>\r\n      <use x=\"69.824219\" xlink:href=\"#DejaVuSans-105\"/>\r\n      <use x=\"97.607422\" xlink:href=\"#DejaVuSans-116\"/>\r\n      <use x=\"136.816406\" xlink:href=\"#DejaVuSans-121\"/>\r\n      <use x=\"195.996094\" xlink:href=\"#DejaVuSans-32\"/>\r\n      <use x=\"227.783203\" xlink:href=\"#DejaVuSans-72\"/>\r\n      <use x=\"302.978516\" xlink:href=\"#DejaVuSans-111\"/>\r\n      <use x=\"364.160156\" xlink:href=\"#DejaVuSans-116\"/>\r\n      <use x=\"403.369141\" xlink:href=\"#DejaVuSans-101\"/>\r\n      <use x=\"464.892578\" xlink:href=\"#DejaVuSans-108\"/>\r\n     </g>\r\n    </g>\r\n    <g id=\"patch_12\">\r\n     <path d=\"M 532.3175 69.753125 \r\nL 572.3175 69.753125 \r\nL 572.3175 55.753125 \r\nL 532.3175 55.753125 \r\nz\r\n\" style=\"fill:#ffc266;\"/>\r\n    </g>\r\n    <g id=\"text_19\">\r\n     <!-- Resort Hotel -->\r\n     <defs>\r\n      <path d=\"M 44.390625 34.1875 \r\nQ 47.5625 33.109375 50.5625 29.59375 \r\nQ 53.5625 26.078125 56.59375 19.921875 \r\nL 66.609375 0 \r\nL 56 0 \r\nL 46.6875 18.703125 \r\nQ 43.0625 26.03125 39.671875 28.421875 \r\nQ 36.28125 30.8125 30.421875 30.8125 \r\nL 19.671875 30.8125 \r\nL 19.671875 0 \r\nL 9.8125 0 \r\nL 9.8125 72.90625 \r\nL 32.078125 72.90625 \r\nQ 44.578125 72.90625 50.734375 67.671875 \r\nQ 56.890625 62.453125 56.890625 51.90625 \r\nQ 56.890625 45.015625 53.6875 40.46875 \r\nQ 50.484375 35.9375 44.390625 34.1875 \r\nz\r\nM 19.671875 64.796875 \r\nL 19.671875 38.921875 \r\nL 32.078125 38.921875 \r\nQ 39.203125 38.921875 42.84375 42.21875 \r\nQ 46.484375 45.515625 46.484375 51.90625 \r\nQ 46.484375 58.296875 42.84375 61.546875 \r\nQ 39.203125 64.796875 32.078125 64.796875 \r\nz\r\n\" id=\"DejaVuSans-82\"/>\r\n     </defs>\r\n     <g style=\"fill:#262626;\" transform=\"translate(588.3175 69.753125)scale(0.2 -0.2)\">\r\n      <use xlink:href=\"#DejaVuSans-82\"/>\r\n      <use x=\"69.419922\" xlink:href=\"#DejaVuSans-101\"/>\r\n      <use x=\"130.943359\" xlink:href=\"#DejaVuSans-115\"/>\r\n      <use x=\"183.042969\" xlink:href=\"#DejaVuSans-111\"/>\r\n      <use x=\"244.224609\" xlink:href=\"#DejaVuSans-114\"/>\r\n      <use x=\"285.337891\" xlink:href=\"#DejaVuSans-116\"/>\r\n      <use x=\"324.546875\" xlink:href=\"#DejaVuSans-32\"/>\r\n      <use x=\"356.333984\" xlink:href=\"#DejaVuSans-72\"/>\r\n      <use x=\"431.529297\" xlink:href=\"#DejaVuSans-111\"/>\r\n      <use x=\"492.710938\" xlink:href=\"#DejaVuSans-116\"/>\r\n      <use x=\"531.919922\" xlink:href=\"#DejaVuSans-101\"/>\r\n      <use x=\"593.443359\" xlink:href=\"#DejaVuSans-108\"/>\r\n     </g>\r\n    </g>\r\n   </g>\r\n  </g>\r\n </g>\r\n <defs>\r\n  <clipPath id=\"pa0162af2f1\">\r\n   <rect height=\"434.88\" width=\"669.6\" x=\"60.964375\" y=\"7.2\"/>\r\n  </clipPath>\r\n </defs>\r\n</svg>\r\n",
      "image/png": "[encoded data removed]"
     },
     "metadata": {}
    }
   ],
   "source": [
    "ind = np.arange(2)\n",
    "\n",
    "with plt.style.context(\"seaborn\"):\n",
    "    fig, ax = plt.subplots(figsize = (12, 8))\n",
    "    ax.bar(ind, barplot[0:2][\"guests\"], width = 0.35, color='#b3ffb3', label = \"City Hotel\")\n",
    "    ax.bar(ind + 0.35, barplot[2:4][\"guests\"], width = 0.35, color='#ffc266', label = \"Resort Hotel\")\n",
    "    ax.set(xlabel = \"How many bookings were canceled (0 —  not canceled, 1 — canceled)\", ylabel = \"Total_guests\")\n",
    "    ax.legend(prop={'size': 20})\n",
    "    ax.set_xticks(ind + 0.35 / 2)\n",
    "    ax.set_xticklabels(('0', '1', '0', '1'))\n",
    "    for index,data in enumerate(barplot[0:2][\"guests\"]):\n",
    "         ax.text(x= index , y = data+1 , s=f\"{data}\" , fontdict=dict(fontsize=15), ha = \"center\")\n",
    "    for index,data in enumerate(barplot[2:4][\"guests\"]):\n",
    "         ax.text(x= index + 0.35, y = data+1 , s=f\"{data}\" , fontdict=dict(fontsize=15), ha = \"center\")"
   ]
  },
  {
   "cell_type": "code",
   "execution_count": 164,
   "metadata": {},
   "outputs": [
    {
     "output_type": "execute_result",
     "data": {
      "text/plain": "array([0.175, 1.175])"
     },
     "metadata": {},
     "execution_count": 164
    }
   ],
   "source": [
    "ind + 0.35 / 2"
   ]
  },
  {
   "cell_type": "markdown",
   "metadata": {},
   "source": [
    "# Prepare data for machine learning"
   ]
  },
  {
   "cell_type": "code",
   "execution_count": null,
   "metadata": {},
   "outputs": [],
   "source": [
    "cat_attri = ['meal', 'country', 'market_segment', 'distribution_channel', 'reserved_room_type', 'assigned_room_type', \"customer_type\"]\n",
    "\n",
    "one_hot = pd.get_dummies(hotel_book[cat_attri])\n",
    "hotel_book = hotel_book.drop(cat_attri, axis = 1)\n",
    "# Join the encoded df\n",
    "hotel_book = hotel_book.join(one_hot)\n",
    "hotel_book"
   ]
  },
  {
   "cell_type": "code",
   "execution_count": null,
   "metadata": {},
   "outputs": [],
   "source": [
    "from sklearn.mixture import GaussianMixture\n",
    "\n",
    "gms_per_k = [GaussianMixture(n_components=k, n_init=10, random_state=42, verbose = 2).fit(hotel_book)\n",
    "             for k in range(1, 8)]"
   ]
  },
  {
   "cell_type": "code",
   "execution_count": null,
   "metadata": {},
   "outputs": [],
   "source": [
    "bics = [model.bic(hotel_book) for model in gms_per_k]\n",
    "aics = [model.aic(hotel_book) for model in gms_per_k]"
   ]
  },
  {
   "cell_type": "code",
   "execution_count": null,
   "metadata": {},
   "outputs": [],
   "source": [
    "with plt.style.context(\"seaborn\"):\n",
    "    fig, ax = plt.subplots(figsize = (12,8))\n",
    "    ax.plot(range(1, 8), bics, \"b--\", linewidth = 2, label = \"BICS\")\n",
    "    ax.plot(range(1, 8), aics, \"g--\", linewidth = 2, label = \"AICS\")\n",
    "    ax.set(xlabel = \"$k$\", ylabel = \"Information Criterion\")\n",
    "    ax.legend()"
   ]
  },
  {
   "cell_type": "markdown",
   "metadata": {},
   "source": [
    "<img src=\"bic.png\" width=\"600\" height=\"350\">"
   ]
  },
  {
   "cell_type": "markdown",
   "metadata": {},
   "source": [
    "we can see that k > 2 don't change too much value with k = 2 so we choose k = 2 and init = 10 for speed of algorithm"
   ]
  },
  {
   "cell_type": "code",
   "execution_count": null,
   "metadata": {},
   "outputs": [],
   "source": [
    "from sklearn.mixture import GaussianMixture\n",
    "\n",
    "gm = GaussianMixture(n_components = 2, n_init = 10)\n",
    "\n",
    "gm.fit(hotel_book)\n",
    "\n",
    "densities = gm.score_samples(hotel_book)\n",
    "\n",
    "density_thresholds = np.percentile(densities, 5)\n",
    "\n",
    "hotel_book_no_anomalies = hotel_book[densities > density_thresholds]"
   ]
  },
  {
   "cell_type": "code",
   "execution_count": null,
   "metadata": {},
   "outputs": [],
   "source": [
    "x_train = hotel_book_no_anomalies.drop(['is_canceled'], axis = 1)\n",
    "y_train = hotel_book_no_anomalies['is_canceled'].copy()"
   ]
  },
  {
   "cell_type": "code",
   "execution_count": null,
   "metadata": {},
   "outputs": [],
   "source": [
    "from sklearn.preprocessing import StandardScaler\n",
    "\n",
    "X_train_prepared = StandardScaler().fit_transform(x_train)"
   ]
  },
  {
   "cell_type": "code",
   "execution_count": null,
   "metadata": {},
   "outputs": [],
   "source": [
    "from sklearn.decomposition import PCA\n",
    "\n",
    "pca = PCA(n_components = 0.95)\n",
    "\n",
    "X_train_reduced = pca.fit_transform(X_train_prepared)"
   ]
  },
  {
   "cell_type": "code",
   "execution_count": null,
   "metadata": {},
   "outputs": [],
   "source": [
    "X_train_reduced.shape"
   ]
  },
  {
   "cell_type": "code",
   "execution_count": null,
   "metadata": {},
   "outputs": [],
   "source": [
    "from sklearn.model_selection import cross_val_score, cross_val_predict\n",
    "from sklearn.metrics import confusion_matrix, precision_score, recall_score\n",
    "\n",
    "def EvalAcc_Confumatrix(model, X, Y, cv = 5):\n",
    "    result1 = cross_val_score(model, X, Y, scoring = \"accuracy\", cv = cv)\n",
    "    result2 = cross_val_predict(model, X, Y, cv = cv)\n",
    "    print(\"score_accuracy:\", result1)\n",
    "    print(\"confu_matrix:\", confusion_matrix(Y, result2))\n",
    "    print(\"precision_score:\", precision_score(Y, result2))\n",
    "    print(\"recall_score:\", recall_score(Y, result2))\n",
    "    tn = confusion_matrix(result2, Y).ravel()\n",
    "    return tn"
   ]
  },
  {
   "cell_type": "code",
   "execution_count": null,
   "metadata": {},
   "outputs": [],
   "source": [
    "from sklearn.model_selection import cross_val_predict\n",
    "from sklearn.metrics import roc_curve, roc_auc_score, precision_recall_curve\n",
    "\n",
    "def EvalROCcurve_Plot(model, X, Y, cv = 5, method = \"decision_function\", \n",
    "                      styleplot = \"seaborn\", titleplot1 = None, titleplot2 = None):\n",
    "    method = method\n",
    "    y_s = cross_val_predict(model, X, Y, cv = cv, method = method, verbose = 2)\n",
    "    # Choose column if method is predict proba\n",
    "    if (method == \"predict_proba\"):\n",
    "        y_score = y_s[:, 1]\n",
    "    else:\n",
    "        y_score = y_s\n",
    "    # Caculate precision, recall and thresholds\n",
    "    precisions, recalls, thresholds1 = precision_recall_curve(Y, y_score)\n",
    "    # Caculate ROC AUC\n",
    "    RocAucScore = roc_auc_score(Y, y_score)\n",
    "    fpr, tpr, thresholds2 = roc_curve(Y, y_score)\n",
    "    with plt.style.context(styleplot):\n",
    "        fig, ax = plt.subplots(2, 1, figsize = (13, 10))\n",
    "        # Plot Roc_curve\n",
    "        ax[0].plot(fpr, tpr, linewidth = 2)\n",
    "        ax[0].plot([0, 1], [0, 1], \"k--\")\n",
    "        ax[0].set(xlabel = \"False Positive Rate\", ylabel  = \"Recall\", title = titleplot1)\n",
    "        # Plot precision and recall curve\n",
    "        ax[1].plot(thresholds1, precisions[:-1], \"b--\", label = \"Precision\", linewidth = 2)\n",
    "        ax[1].plot(thresholds1, recalls[:-1], \"g--\", label = \"Recall\", linewidth = 2)\n",
    "        ax[1].set(xlabel = \"Thresholds\", title = titleplot2)\n",
    "        ax[1].legend(prop={'size': 15})\n",
    "    print(\"ROC AUC:\", RocAucScore)\n",
    "    return fpr, tpr, thresholds1"
   ]
  },
  {
   "cell_type": "code",
   "execution_count": null,
   "metadata": {},
   "outputs": [],
   "source": [
    "from sklearn.linear_model import SGDClassifier\n",
    "\n",
    "sgd_clf = SGDClassifier(random_state = 42)\n",
    "\n",
    "sgd_confu = EvalAcc_Confumatrix(sgd_clf, X_train_reduced, y_train)"
   ]
  },
  {
   "cell_type": "code",
   "execution_count": null,
   "metadata": {},
   "outputs": [],
   "source": [
    "sgd_ROC = EvalROCcurve_Plot(sgd_clf, X_train_reduced, y_train, styleplot = \"fivethirtyeight\")"
   ]
  },
  {
   "cell_type": "code",
   "execution_count": null,
   "metadata": {},
   "outputs": [],
   "source": [
    "from sklearn.ensemble import RandomForestClassifier\n",
    "\n",
    "random_clf = RandomForestClassifier(random_state=42)\n",
    "\n",
    "rand_forest = EvalAcc_Confumatrix(random_clf, X_train_reduced, y_train)"
   ]
  },
  {
   "cell_type": "code",
   "execution_count": null,
   "metadata": {},
   "outputs": [],
   "source": [
    "rand_forest_roc = EvalROCcurve_Plot(random_clf, X_train_reduced, y_train, method = \"predict_proba\", styleplot = \"fivethirtyeight\")"
   ]
  }
 ],
 "metadata": {
  "kernelspec": {
   "display_name": "Python 3",
   "language": "python",
   "name": "python3"
  },
  "language_info": {
   "codemirror_mode": {
    "name": "ipython",
    "version": 3
   },
   "file_extension": ".py",
   "mimetype": "text/x-python",
   "name": "python",
   "nbconvert_exporter": "python",
   "pygments_lexer": "ipython3",
   "version": "3.7.7-final"
  }
 },
 "nbformat": 4,
 "nbformat_minor": 2
}