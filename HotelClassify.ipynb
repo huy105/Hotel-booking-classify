{
 "cells": [
  {
   "cell_type": "code",
   "execution_count": 1,
   "metadata": {},
   "outputs": [],
   "source": [
    "import pandas as pd\n",
    "import matplotlib.pyplot as plt\n",
    "import seaborn as sns\n",
    "import numpy as np"
   ]
  },
  {
   "cell_type": "code",
   "execution_count": 2,
   "metadata": {},
   "outputs": [
    {
     "output_type": "execute_result",
     "data": {
      "text/plain": "   id         hotel  is_canceled  lead_time  stays_in_weekend_nights  \\\n0   1  Resort Hotel            0          1                        0   \n1   2  Resort Hotel            0          1                        0   \n2   3    City Hotel            1         56                        0   \n3   4    City Hotel            0        213                        2   \n4   5  Resort Hotel            0        328                        4   \n\n   stays_in_week_nights  adults  children  babies meal country market_segment  \\\n0                     1       2       0.0       1   BB     PRT         Direct   \n1                     2       1       0.0       0   BB     PRT         Direct   \n2                     3       2       0.0       0   BB     PRT         Groups   \n3                     5       2       0.0       0   BB     GBR      Online TA   \n4                    10       2       0.0       0   BB     GBR  Offline TA/TO   \n\n  distribution_channel  is_repeated_guest  previous_cancellations  \\\n0               Direct                  0                       0   \n1               Direct                  0                       0   \n2                TA/TO                  0                       0   \n3                TA/TO                  0                       0   \n4                TA/TO                  0                       0   \n\n   previous_bookings_not_canceled reserved_room_type assigned_room_type  \\\n0                               0                  A                  A   \n1                               0                  A                  D   \n2                               0                  A                  A   \n3                               0                  A                  A   \n4                               0                  D                  D   \n\n   booking_changes  agent  company  days_in_waiting_list customer_type  \\\n0                1  250.0      0.0                     0     Transient   \n1                0    0.0      0.0                     0     Transient   \n2                0   29.0      0.0                     0     Transient   \n3                0    9.0      0.0                     0     Transient   \n4                0  243.0      0.0                     0      Contract   \n\n      adr  required_car_parking_spaces  total_of_special_requests arrival_date  \n0   55.00                            1                          0   2017-02-04  \n1   40.00                            0                          0   2016-03-04  \n2   60.00                            0                          0   2017-02-01  \n3  102.85                            0                          1   2016-10-05  \n4  121.50                            0                          2   2017-06-29  ",
      "text/html": "<div>\n<style scoped>\n    .dataframe tbody tr th:only-of-type {\n        vertical-align: middle;\n    }\n\n    .dataframe tbody tr th {\n        vertical-align: top;\n    }\n\n    .dataframe thead th {\n        text-align: right;\n    }\n</style>\n<table border=\"1\" class=\"dataframe\">\n  <thead>\n    <tr style=\"text-align: right;\">\n      <th></th>\n      <th>id</th>\n      <th>hotel</th>\n      <th>is_canceled</th>\n      <th>lead_time</th>\n      <th>stays_in_weekend_nights</th>\n      <th>stays_in_week_nights</th>\n      <th>adults</th>\n      <th>children</th>\n      <th>babies</th>\n      <th>meal</th>\n      <th>country</th>\n      <th>market_segment</th>\n      <th>distribution_channel</th>\n      <th>is_repeated_guest</th>\n      <th>previous_cancellations</th>\n      <th>previous_bookings_not_canceled</th>\n      <th>reserved_room_type</th>\n      <th>assigned_room_type</th>\n      <th>booking_changes</th>\n      <th>agent</th>\n      <th>company</th>\n      <th>days_in_waiting_list</th>\n      <th>customer_type</th>\n      <th>adr</th>\n      <th>required_car_parking_spaces</th>\n      <th>total_of_special_requests</th>\n      <th>arrival_date</th>\n    </tr>\n  </thead>\n  <tbody>\n    <tr>\n      <th>0</th>\n      <td>1</td>\n      <td>Resort Hotel</td>\n      <td>0</td>\n      <td>1</td>\n      <td>0</td>\n      <td>1</td>\n      <td>2</td>\n      <td>0.0</td>\n      <td>1</td>\n      <td>BB</td>\n      <td>PRT</td>\n      <td>Direct</td>\n      <td>Direct</td>\n      <td>0</td>\n      <td>0</td>\n      <td>0</td>\n      <td>A</td>\n      <td>A</td>\n      <td>1</td>\n      <td>250.0</td>\n      <td>0.0</td>\n      <td>0</td>\n      <td>Transient</td>\n      <td>55.00</td>\n      <td>1</td>\n      <td>0</td>\n      <td>2017-02-04</td>\n    </tr>\n    <tr>\n      <th>1</th>\n      <td>2</td>\n      <td>Resort Hotel</td>\n      <td>0</td>\n      <td>1</td>\n      <td>0</td>\n      <td>2</td>\n      <td>1</td>\n      <td>0.0</td>\n      <td>0</td>\n      <td>BB</td>\n      <td>PRT</td>\n      <td>Direct</td>\n      <td>Direct</td>\n      <td>0</td>\n      <td>0</td>\n      <td>0</td>\n      <td>A</td>\n      <td>D</td>\n      <td>0</td>\n      <td>0.0</td>\n      <td>0.0</td>\n      <td>0</td>\n      <td>Transient</td>\n      <td>40.00</td>\n      <td>0</td>\n      <td>0</td>\n      <td>2016-03-04</td>\n    </tr>\n    <tr>\n      <th>2</th>\n      <td>3</td>\n      <td>City Hotel</td>\n      <td>1</td>\n      <td>56</td>\n      <td>0</td>\n      <td>3</td>\n      <td>2</td>\n      <td>0.0</td>\n      <td>0</td>\n      <td>BB</td>\n      <td>PRT</td>\n      <td>Groups</td>\n      <td>TA/TO</td>\n      <td>0</td>\n      <td>0</td>\n      <td>0</td>\n      <td>A</td>\n      <td>A</td>\n      <td>0</td>\n      <td>29.0</td>\n      <td>0.0</td>\n      <td>0</td>\n      <td>Transient</td>\n      <td>60.00</td>\n      <td>0</td>\n      <td>0</td>\n      <td>2017-02-01</td>\n    </tr>\n    <tr>\n      <th>3</th>\n      <td>4</td>\n      <td>City Hotel</td>\n      <td>0</td>\n      <td>213</td>\n      <td>2</td>\n      <td>5</td>\n      <td>2</td>\n      <td>0.0</td>\n      <td>0</td>\n      <td>BB</td>\n      <td>GBR</td>\n      <td>Online TA</td>\n      <td>TA/TO</td>\n      <td>0</td>\n      <td>0</td>\n      <td>0</td>\n      <td>A</td>\n      <td>A</td>\n      <td>0</td>\n      <td>9.0</td>\n      <td>0.0</td>\n      <td>0</td>\n      <td>Transient</td>\n      <td>102.85</td>\n      <td>0</td>\n      <td>1</td>\n      <td>2016-10-05</td>\n    </tr>\n    <tr>\n      <th>4</th>\n      <td>5</td>\n      <td>Resort Hotel</td>\n      <td>0</td>\n      <td>328</td>\n      <td>4</td>\n      <td>10</td>\n      <td>2</td>\n      <td>0.0</td>\n      <td>0</td>\n      <td>BB</td>\n      <td>GBR</td>\n      <td>Offline TA/TO</td>\n      <td>TA/TO</td>\n      <td>0</td>\n      <td>0</td>\n      <td>0</td>\n      <td>D</td>\n      <td>D</td>\n      <td>0</td>\n      <td>243.0</td>\n      <td>0.0</td>\n      <td>0</td>\n      <td>Contract</td>\n      <td>121.50</td>\n      <td>0</td>\n      <td>2</td>\n      <td>2017-06-29</td>\n    </tr>\n  </tbody>\n</table>\n</div>"
     },
     "metadata": {},
     "execution_count": 2
    }
   ],
   "source": [
    "data = pd.read_csv(r\"C:\\Users\\Admin\\Data python\\data_all\\data_all\\train.csv\")\n",
    "pd.set_option('display.max_columns', 32)\n",
    "data.head()"
   ]
  },
  {
   "cell_type": "code",
   "execution_count": 3,
   "metadata": {},
   "outputs": [],
   "source": [
    "col = ['agent', 'company', 'id', \"hotel\"]\n",
    "\n",
    "hotel_book = data.drop(col, axis= 1)"
   ]
  },
  {
   "cell_type": "code",
   "execution_count": 4,
   "metadata": {},
   "outputs": [
    {
     "output_type": "execute_result",
     "data": {
      "text/plain": "   is_canceled  lead_time  stays_in_weekend_nights  stays_in_week_nights  \\\n0            0          1                        0                     1   \n1            0          1                        0                     2   \n2            1         56                        0                     3   \n3            0        213                        2                     5   \n4            0        328                        4                    10   \n\n   adults  children  babies meal country market_segment distribution_channel  \\\n0       2       0.0       1   BB     PRT         Direct               Direct   \n1       1       0.0       0   BB     PRT         Direct               Direct   \n2       2       0.0       0   BB     PRT         Groups                TA/TO   \n3       2       0.0       0   BB     GBR      Online TA                TA/TO   \n4       2       0.0       0   BB     GBR  Offline TA/TO                TA/TO   \n\n   is_repeated_guest  previous_cancellations  previous_bookings_not_canceled  \\\n0                  0                       0                               0   \n1                  0                       0                               0   \n2                  0                       0                               0   \n3                  0                       0                               0   \n4                  0                       0                               0   \n\n  reserved_room_type assigned_room_type  booking_changes  \\\n0                  A                  A                1   \n1                  A                  D                0   \n2                  A                  A                0   \n3                  A                  A                0   \n4                  D                  D                0   \n\n   days_in_waiting_list customer_type     adr  required_car_parking_spaces  \\\n0                     0     Transient   55.00                            1   \n1                     0     Transient   40.00                            0   \n2                     0     Transient   60.00                            0   \n3                     0     Transient  102.85                            0   \n4                     0      Contract  121.50                            0   \n\n   total_of_special_requests arrival_date  \n0                          0   2017-02-04  \n1                          0   2016-03-04  \n2                          0   2017-02-01  \n3                          1   2016-10-05  \n4                          2   2017-06-29  ",
      "text/html": "<div>\n<style scoped>\n    .dataframe tbody tr th:only-of-type {\n        vertical-align: middle;\n    }\n\n    .dataframe tbody tr th {\n        vertical-align: top;\n    }\n\n    .dataframe thead th {\n        text-align: right;\n    }\n</style>\n<table border=\"1\" class=\"dataframe\">\n  <thead>\n    <tr style=\"text-align: right;\">\n      <th></th>\n      <th>is_canceled</th>\n      <th>lead_time</th>\n      <th>stays_in_weekend_nights</th>\n      <th>stays_in_week_nights</th>\n      <th>adults</th>\n      <th>children</th>\n      <th>babies</th>\n      <th>meal</th>\n      <th>country</th>\n      <th>market_segment</th>\n      <th>distribution_channel</th>\n      <th>is_repeated_guest</th>\n      <th>previous_cancellations</th>\n      <th>previous_bookings_not_canceled</th>\n      <th>reserved_room_type</th>\n      <th>assigned_room_type</th>\n      <th>booking_changes</th>\n      <th>days_in_waiting_list</th>\n      <th>customer_type</th>\n      <th>adr</th>\n      <th>required_car_parking_spaces</th>\n      <th>total_of_special_requests</th>\n      <th>arrival_date</th>\n    </tr>\n  </thead>\n  <tbody>\n    <tr>\n      <th>0</th>\n      <td>0</td>\n      <td>1</td>\n      <td>0</td>\n      <td>1</td>\n      <td>2</td>\n      <td>0.0</td>\n      <td>1</td>\n      <td>BB</td>\n      <td>PRT</td>\n      <td>Direct</td>\n      <td>Direct</td>\n      <td>0</td>\n      <td>0</td>\n      <td>0</td>\n      <td>A</td>\n      <td>A</td>\n      <td>1</td>\n      <td>0</td>\n      <td>Transient</td>\n      <td>55.00</td>\n      <td>1</td>\n      <td>0</td>\n      <td>2017-02-04</td>\n    </tr>\n    <tr>\n      <th>1</th>\n      <td>0</td>\n      <td>1</td>\n      <td>0</td>\n      <td>2</td>\n      <td>1</td>\n      <td>0.0</td>\n      <td>0</td>\n      <td>BB</td>\n      <td>PRT</td>\n      <td>Direct</td>\n      <td>Direct</td>\n      <td>0</td>\n      <td>0</td>\n      <td>0</td>\n      <td>A</td>\n      <td>D</td>\n      <td>0</td>\n      <td>0</td>\n      <td>Transient</td>\n      <td>40.00</td>\n      <td>0</td>\n      <td>0</td>\n      <td>2016-03-04</td>\n    </tr>\n    <tr>\n      <th>2</th>\n      <td>1</td>\n      <td>56</td>\n      <td>0</td>\n      <td>3</td>\n      <td>2</td>\n      <td>0.0</td>\n      <td>0</td>\n      <td>BB</td>\n      <td>PRT</td>\n      <td>Groups</td>\n      <td>TA/TO</td>\n      <td>0</td>\n      <td>0</td>\n      <td>0</td>\n      <td>A</td>\n      <td>A</td>\n      <td>0</td>\n      <td>0</td>\n      <td>Transient</td>\n      <td>60.00</td>\n      <td>0</td>\n      <td>0</td>\n      <td>2017-02-01</td>\n    </tr>\n    <tr>\n      <th>3</th>\n      <td>0</td>\n      <td>213</td>\n      <td>2</td>\n      <td>5</td>\n      <td>2</td>\n      <td>0.0</td>\n      <td>0</td>\n      <td>BB</td>\n      <td>GBR</td>\n      <td>Online TA</td>\n      <td>TA/TO</td>\n      <td>0</td>\n      <td>0</td>\n      <td>0</td>\n      <td>A</td>\n      <td>A</td>\n      <td>0</td>\n      <td>0</td>\n      <td>Transient</td>\n      <td>102.85</td>\n      <td>0</td>\n      <td>1</td>\n      <td>2016-10-05</td>\n    </tr>\n    <tr>\n      <th>4</th>\n      <td>0</td>\n      <td>328</td>\n      <td>4</td>\n      <td>10</td>\n      <td>2</td>\n      <td>0.0</td>\n      <td>0</td>\n      <td>BB</td>\n      <td>GBR</td>\n      <td>Offline TA/TO</td>\n      <td>TA/TO</td>\n      <td>0</td>\n      <td>0</td>\n      <td>0</td>\n      <td>D</td>\n      <td>D</td>\n      <td>0</td>\n      <td>0</td>\n      <td>Contract</td>\n      <td>121.50</td>\n      <td>0</td>\n      <td>2</td>\n      <td>2017-06-29</td>\n    </tr>\n  </tbody>\n</table>\n</div>"
     },
     "metadata": {},
     "execution_count": 4
    }
   ],
   "source": [
    "hotel_book.head()"
   ]
  },
  {
   "cell_type": "code",
   "execution_count": 5,
   "metadata": {},
   "outputs": [
    {
     "output_type": "stream",
     "name": "stdout",
     "text": "<class 'pandas.core.frame.DataFrame'>\nRangeIndex: 108785 entries, 0 to 108784\nData columns (total 23 columns):\n #   Column                          Non-Null Count   Dtype  \n---  ------                          --------------   -----  \n 0   is_canceled                     108785 non-null  int64  \n 1   lead_time                       108785 non-null  int64  \n 2   stays_in_weekend_nights         108785 non-null  int64  \n 3   stays_in_week_nights            108785 non-null  int64  \n 4   adults                          108785 non-null  int64  \n 5   children                        108785 non-null  float64\n 6   babies                          108785 non-null  int64  \n 7   meal                            108785 non-null  object \n 8   country                         108785 non-null  object \n 9   market_segment                  108785 non-null  object \n 10  distribution_channel            108785 non-null  object \n 11  is_repeated_guest               108785 non-null  int64  \n 12  previous_cancellations          108785 non-null  int64  \n 13  previous_bookings_not_canceled  108785 non-null  int64  \n 14  reserved_room_type              108785 non-null  object \n 15  assigned_room_type              108785 non-null  object \n 16  booking_changes                 108785 non-null  int64  \n 17  days_in_waiting_list            108785 non-null  int64  \n 18  customer_type                   108785 non-null  object \n 19  adr                             108785 non-null  float64\n 20  required_car_parking_spaces     108785 non-null  int64  \n 21  total_of_special_requests       108785 non-null  int64  \n 22  arrival_date                    108785 non-null  object \ndtypes: float64(2), int64(13), object(8)\nmemory usage: 19.1+ MB\n"
    }
   ],
   "source": [
    "hotel_book.info()"
   ]
  },
  {
   "cell_type": "code",
   "execution_count": 6,
   "metadata": {},
   "outputs": [
    {
     "output_type": "execute_result",
     "data": {
      "text/plain": "         is_canceled      lead_time  stays_in_weekend_nights  \\\ncount  108785.000000  108785.000000            108785.000000   \nmean        0.370685     100.159847                 0.909445   \nstd         0.482991     104.953130                 0.992503   \nmin         0.000000       0.000000                 0.000000   \n25%         0.000000      17.000000                 0.000000   \n50%         0.000000      65.000000                 1.000000   \n75%         1.000000     152.000000                 2.000000   \nmax         1.000000     737.000000                19.000000   \n\n       stays_in_week_nights         adults       children         babies  \\\ncount         108785.000000  108785.000000  108785.000000  108785.000000   \nmean               2.464935       1.845264       0.092375       0.007951   \nstd                1.887034       0.582494       0.377309       0.098157   \nmin                0.000000       0.000000       0.000000       0.000000   \n25%                1.000000       2.000000       0.000000       0.000000   \n50%                2.000000       2.000000       0.000000       0.000000   \n75%                3.000000       2.000000       0.000000       0.000000   \nmax               50.000000      55.000000      10.000000      10.000000   \n\n       is_repeated_guest  previous_cancellations  \\\ncount      108785.000000           108785.000000   \nmean            0.032541                0.094406   \nstd             0.177433                0.881879   \nmin             0.000000                0.000000   \n25%             0.000000                0.000000   \n50%             0.000000                0.000000   \n75%             0.000000                0.000000   \nmax             1.000000               26.000000   \n\n       previous_bookings_not_canceled  booking_changes  days_in_waiting_list  \\\ncount                   108785.000000    108785.000000         108785.000000   \nmean                         0.136958         0.211748              2.540249   \nstd                          1.448224         0.626862             18.401511   \nmin                          0.000000         0.000000              0.000000   \n25%                          0.000000         0.000000              0.000000   \n50%                          0.000000         0.000000              0.000000   \n75%                          0.000000         0.000000              0.000000   \nmax                         67.000000        18.000000            391.000000   \n\n                 adr  required_car_parking_spaces  total_of_special_requests  \ncount  108785.000000                108785.000000              108785.000000  \nmean       97.085407                     0.063097                   0.544239  \nstd        46.910659                     0.246518                   0.777150  \nmin        -6.380000                     0.000000                   0.000000  \n25%        66.500000                     0.000000                   0.000000  \n50%        90.000000                     0.000000                   0.000000  \n75%       120.000000                     0.000000                   1.000000  \nmax      5400.000000                     8.000000                   5.000000  ",
      "text/html": "<div>\n<style scoped>\n    .dataframe tbody tr th:only-of-type {\n        vertical-align: middle;\n    }\n\n    .dataframe tbody tr th {\n        vertical-align: top;\n    }\n\n    .dataframe thead th {\n        text-align: right;\n    }\n</style>\n<table border=\"1\" class=\"dataframe\">\n  <thead>\n    <tr style=\"text-align: right;\">\n      <th></th>\n      <th>is_canceled</th>\n      <th>lead_time</th>\n      <th>stays_in_weekend_nights</th>\n      <th>stays_in_week_nights</th>\n      <th>adults</th>\n      <th>children</th>\n      <th>babies</th>\n      <th>is_repeated_guest</th>\n      <th>previous_cancellations</th>\n      <th>previous_bookings_not_canceled</th>\n      <th>booking_changes</th>\n      <th>days_in_waiting_list</th>\n      <th>adr</th>\n      <th>required_car_parking_spaces</th>\n      <th>total_of_special_requests</th>\n    </tr>\n  </thead>\n  <tbody>\n    <tr>\n      <th>count</th>\n      <td>108785.000000</td>\n      <td>108785.000000</td>\n      <td>108785.000000</td>\n      <td>108785.000000</td>\n      <td>108785.000000</td>\n      <td>108785.000000</td>\n      <td>108785.000000</td>\n      <td>108785.000000</td>\n      <td>108785.000000</td>\n      <td>108785.000000</td>\n      <td>108785.000000</td>\n      <td>108785.000000</td>\n      <td>108785.000000</td>\n      <td>108785.000000</td>\n      <td>108785.000000</td>\n    </tr>\n    <tr>\n      <th>mean</th>\n      <td>0.370685</td>\n      <td>100.159847</td>\n      <td>0.909445</td>\n      <td>2.464935</td>\n      <td>1.845264</td>\n      <td>0.092375</td>\n      <td>0.007951</td>\n      <td>0.032541</td>\n      <td>0.094406</td>\n      <td>0.136958</td>\n      <td>0.211748</td>\n      <td>2.540249</td>\n      <td>97.085407</td>\n      <td>0.063097</td>\n      <td>0.544239</td>\n    </tr>\n    <tr>\n      <th>std</th>\n      <td>0.482991</td>\n      <td>104.953130</td>\n      <td>0.992503</td>\n      <td>1.887034</td>\n      <td>0.582494</td>\n      <td>0.377309</td>\n      <td>0.098157</td>\n      <td>0.177433</td>\n      <td>0.881879</td>\n      <td>1.448224</td>\n      <td>0.626862</td>\n      <td>18.401511</td>\n      <td>46.910659</td>\n      <td>0.246518</td>\n      <td>0.777150</td>\n    </tr>\n    <tr>\n      <th>min</th>\n      <td>0.000000</td>\n      <td>0.000000</td>\n      <td>0.000000</td>\n      <td>0.000000</td>\n      <td>0.000000</td>\n      <td>0.000000</td>\n      <td>0.000000</td>\n      <td>0.000000</td>\n      <td>0.000000</td>\n      <td>0.000000</td>\n      <td>0.000000</td>\n      <td>0.000000</td>\n      <td>-6.380000</td>\n      <td>0.000000</td>\n      <td>0.000000</td>\n    </tr>\n    <tr>\n      <th>25%</th>\n      <td>0.000000</td>\n      <td>17.000000</td>\n      <td>0.000000</td>\n      <td>1.000000</td>\n      <td>2.000000</td>\n      <td>0.000000</td>\n      <td>0.000000</td>\n      <td>0.000000</td>\n      <td>0.000000</td>\n      <td>0.000000</td>\n      <td>0.000000</td>\n      <td>0.000000</td>\n      <td>66.500000</td>\n      <td>0.000000</td>\n      <td>0.000000</td>\n    </tr>\n    <tr>\n      <th>50%</th>\n      <td>0.000000</td>\n      <td>65.000000</td>\n      <td>1.000000</td>\n      <td>2.000000</td>\n      <td>2.000000</td>\n      <td>0.000000</td>\n      <td>0.000000</td>\n      <td>0.000000</td>\n      <td>0.000000</td>\n      <td>0.000000</td>\n      <td>0.000000</td>\n      <td>0.000000</td>\n      <td>90.000000</td>\n      <td>0.000000</td>\n      <td>0.000000</td>\n    </tr>\n    <tr>\n      <th>75%</th>\n      <td>1.000000</td>\n      <td>152.000000</td>\n      <td>2.000000</td>\n      <td>3.000000</td>\n      <td>2.000000</td>\n      <td>0.000000</td>\n      <td>0.000000</td>\n      <td>0.000000</td>\n      <td>0.000000</td>\n      <td>0.000000</td>\n      <td>0.000000</td>\n      <td>0.000000</td>\n      <td>120.000000</td>\n      <td>0.000000</td>\n      <td>1.000000</td>\n    </tr>\n    <tr>\n      <th>max</th>\n      <td>1.000000</td>\n      <td>737.000000</td>\n      <td>19.000000</td>\n      <td>50.000000</td>\n      <td>55.000000</td>\n      <td>10.000000</td>\n      <td>10.000000</td>\n      <td>1.000000</td>\n      <td>26.000000</td>\n      <td>67.000000</td>\n      <td>18.000000</td>\n      <td>391.000000</td>\n      <td>5400.000000</td>\n      <td>8.000000</td>\n      <td>5.000000</td>\n    </tr>\n  </tbody>\n</table>\n</div>"
     },
     "metadata": {},
     "execution_count": 6
    }
   ],
   "source": [
    "hotel_book.describe()"
   ]
  },
  {
   "cell_type": "markdown",
   "metadata": {},
   "source": [
    "## Explain column meaning\n",
    "\n",
    "**hotel**：City hotel hoặc Resort Hotel\n",
    "\n",
    "**lead_time**：Số ngày từ khi đặt phòng đến ngày nghỉ trọ.\n",
    "\n",
    "**stays_in_weekend_nights**：Số ngày đặt phòng và nghỉ lại (Thứ 7, Chủ Nhật)\n",
    "\n",
    "**stays_in_week_nights**：Số ngày đặt phòng và nghỉ lại (Thứ 2 ~ Thứ 6)\n",
    "\n",
    "**country**：Quốc gia.\n",
    "\n",
    "**market_segment**：Phân loại thị trường(TA：Đại lý du lịch、TO：Điều hành du lịch)\n",
    "\n",
    "**distribution_channel**：kênh cung cấp(TA：Đại lý du lịch、TO：Điều hành du lịch)\n",
    "\n",
    "**is_repeated_guest**：có phải repeater hay không\n",
    "\n",
    "**previous_cancellations**：Đã từng hủy đặt phòng trước đây\n",
    "\n",
    "**previous_bookings_not_canceled**：chưa từng hủy đặt phòng trước đây\n",
    "\n",
    "**reserved_room_type**：Loại phòng đặt\n",
    "\n",
    "**assigned_room_type**：Loại phòng sắp xếp\n",
    "\n",
    "**booking_changes**：Số lần thay đổi đặt phòng\n",
    "\n",
    "**agent**：ẩn\n",
    "\n",
    "**company**：ẩn\n",
    "\n",
    "**days_in_waiting_list**：Số ngày lấy được xác nhận của khách hàng.\n",
    "\n",
    "**customer_type**：loại khách hàng\n",
    "\n",
    "**adr**：Tỉ giá trung bình ngày nghỉ trọ\n",
    "\n",
    "**required_car_parking_spaces**：Yêu cầu bao nhiêu chỗ đỗ xe\n",
    "\n",
    "**total_of_special_requests**：Số lượng yêu cầu đặc biệt.\n",
    "\n",
    "*Đây là bộ dữ liệu trích xuất từ hệ thống Quản lý khách sạn (PMS), vì thế tên khách sạn và đại lý đặt phòng sẽ được ẩn \n",
    "đi.*\n",
    "\n",
    "### Explain for meal\n",
    "\n",
    "**RO**: Room only\n",
    "\n",
    "**BB**: Bed & Breakfast\n",
    "\n",
    "**HB**: Half Board (Breakfast and Dinner normally)\n",
    "\n",
    "**FB**: Full Board (Beakfast, Lunch and Dinner)\n",
    "\n",
    "**AI**: All Inclusive (all services of full board plus any others specified in each case)"
   ]
  },
  {
   "cell_type": "code",
   "execution_count": 7,
   "metadata": {},
   "outputs": [
    {
     "output_type": "stream",
     "name": "stdout",
     "text": "Column name is: meal and it value is: BB    85099\nHB    12705\nSC    10238\nFB      743\nName: meal, dtype: int64\n\nColumn name is: country and it value is: PRT    45865\nGBR    10764\nFRA     9498\nESP     7614\nDEU     6387\n       ...  \nFJI        1\nMRT        1\nCYM        1\nSDN        1\nUMI        1\nName: country, Length: 173, dtype: int64\n\nColumn name is: market_segment and it value is: Online TA        49545\nOffline TA/TO    22682\nGroups           19354\nDirect           11196\nCorporate         5079\nComplementary      697\nAviation           230\nUndefined            2\nName: market_segment, dtype: int64\n\nColumn name is: distribution_channel and it value is: TA/TO        88940\nDirect       13203\nCorporate     6449\nGDS            188\nUndefined        5\nName: distribution_channel, dtype: int64\n\nColumn name is: reserved_room_type and it value is: A    79728\nD    16771\nE     5708\nF     2536\nG     1796\nB     1041\nC      689\nH      510\nL        6\nName: reserved_room_type, dtype: int64\n\nColumn name is: assigned_room_type and it value is: A    68162\nD    22832\nE     6967\nF     3354\nG     2226\nB     2068\nC     2068\nH      616\nI      327\nK      164\nL        1\nName: assigned_room_type, dtype: int64\n\nColumn name is: customer_type and it value is: Transient          80589\nTransient-Party    23808\nContract            3864\nGroup                524\nName: customer_type, dtype: int64\n\n"
    }
   ],
   "source": [
    "# Categorical data\n",
    "col = ['meal', 'country',\"market_segment\", 'distribution_channel', 'reserved_room_type', 'assigned_room_type',\"customer_type\"]\n",
    "\n",
    "for i in hotel_book[col]:\n",
    "    x = hotel_book[i].value_counts()\n",
    "    print(\"Column name is:\",i,\"and it value is:\",x)\n",
    "    print()"
   ]
  },
  {
   "cell_type": "markdown",
   "metadata": {},
   "source": [
    "**meal country**:5\n",
    "\n",
    "**market_segment**: 177\n",
    "\n",
    "**market_segment**: 8 \n",
    "\n",
    "**distribution_channel**: 5 \n",
    "\n",
    "**reserved_room_type**: 9\n",
    "\n",
    "**assigned_room_type**: 11\n",
    "\n",
    "**deposit_type**: 3\n",
    "\n",
    "**customer_type**: 4"
   ]
  },
  {
   "cell_type": "code",
   "execution_count": 8,
   "metadata": {},
   "outputs": [
    {
     "output_type": "execute_result",
     "data": {
      "text/plain": "is_canceled                       False\nlead_time                         False\nstays_in_weekend_nights           False\nstays_in_week_nights              False\nadults                            False\nchildren                          False\nbabies                            False\nmeal                              False\ncountry                           False\nmarket_segment                    False\ndistribution_channel              False\nis_repeated_guest                 False\nprevious_cancellations            False\nprevious_bookings_not_canceled    False\nreserved_room_type                False\nassigned_room_type                False\nbooking_changes                   False\ndays_in_waiting_list              False\ncustomer_type                     False\nadr                               False\nrequired_car_parking_spaces       False\ntotal_of_special_requests         False\narrival_date                      False\ndtype: bool"
     },
     "metadata": {},
     "execution_count": 8
    }
   ],
   "source": [
    "hotel_book.isnull().any()"
   ]
  },
  {
   "cell_type": "code",
   "execution_count": null,
   "metadata": {},
   "outputs": [],
   "source": []
  }
 ],
 "metadata": {
  "kernelspec": {
   "display_name": "Python 3",
   "language": "python",
   "name": "python3"
  },
  "language_info": {
   "codemirror_mode": {
    "name": "ipython",
    "version": 3
   },
   "file_extension": ".py",
   "mimetype": "text/x-python",
   "name": "python",
   "nbconvert_exporter": "python",
   "pygments_lexer": "ipython3",
   "version": "3.7.7-final"
  }
 },
 "nbformat": 4,
 "nbformat_minor": 2
}