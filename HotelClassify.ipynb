{
 "cells": [
  {
   "cell_type": "code",
   "execution_count": null,
   "metadata": {},
   "outputs": [],
   "source": [
    "import pandas as pd\n",
    "import matplotlib.pyplot as plt\n",
    "import seaborn as sns\n",
    "import numpy as np"
   ]
  },
  {
   "cell_type": "code",
   "execution_count": null,
   "metadata": {},
   "outputs": [],
   "source": [
    "data = pd.read_csv(r\"C:\\Users\\Admin\\Data python\\hotel_bookings.csv\")\n",
    "pd.set_option('display.max_columns', 32)\n",
    "data.head()"
   ]
  },
  {
   "cell_type": "code",
   "execution_count": null,
   "metadata": {},
   "outputs": [],
   "source": [
    "col = ['agent', 'company', 'arrival_date_year', 'arrival_date_month', 'arrival_date_week_number', 'arrival_date_day_of_month', 'reservation_status_date', 'reservation_status', 'hotel']\n",
    "\n",
    "hotel_book = data.drop(col, axis= 1)"
   ]
  },
  {
   "cell_type": "code",
   "execution_count": null,
   "metadata": {},
   "outputs": [],
   "source": [
    "hotel_book.head()"
   ]
  },
  {
   "cell_type": "code",
   "execution_count": null,
   "metadata": {},
   "outputs": [],
   "source": [
    "hotel_book.info()"
   ]
  },
  {
   "cell_type": "code",
   "execution_count": null,
   "metadata": {},
   "outputs": [],
   "source": [
    "hotel_book.describe()"
   ]
  },
  {
   "cell_type": "markdown",
   "metadata": {},
   "source": [
    "## Explain column meaning\n",
    "\n",
    "**hotel**：City hotel hoặc Resort Hotel\n",
    "\n",
    "**lead_time**：Số ngày từ khi đặt phòng đến ngày nghỉ trọ.\n",
    "\n",
    "**stays_in_weekend_nights**：Số ngày đặt phòng và nghỉ lại (Thứ 7, Chủ Nhật)\n",
    "\n",
    "**stays_in_week_nights**：Số ngày đặt phòng và nghỉ lại (Thứ 2 ~ Thứ 6)\n",
    "\n",
    "**country**：Quốc gia.\n",
    "\n",
    "**market_segment**：Phân loại thị trường(TA：Đại lý du lịch、TO：Điều hành du lịch)\n",
    "\n",
    "**distribution_channel**：kênh cung cấp(TA：Đại lý du lịch、TO：Điều hành du lịch)\n",
    "\n",
    "**is_repeated_guest**：có phải repeater hay không\n",
    "\n",
    "**previous_cancellations**：Đã từng hủy đặt phòng trước đây\n",
    "\n",
    "**previous_bookings_not_canceled**：chưa từng hủy đặt phòng trước đây\n",
    "\n",
    "**reserved_room_type**：Loại phòng đặt\n",
    "\n",
    "**assigned_room_type**：Loại phòng sắp xếp\n",
    "\n",
    "**booking_changes**：Số lần thay đổi đặt phòng\n",
    "\n",
    "**agent**：ẩn\n",
    "\n",
    "**company**：ẩn\n",
    "\n",
    "**days_in_waiting_list**：Số ngày lấy được xác nhận của khách hàng.\n",
    "\n",
    "**customer_type**：loại khách hàng\n",
    "\n",
    "**adr**：Tỉ giá trung bình ngày nghỉ trọ\n",
    "\n",
    "**required_car_parking_spaces**：Yêu cầu bao nhiêu chỗ đỗ xe\n",
    "\n",
    "**total_of_special_requests**：Số lượng yêu cầu đặc biệt.\n",
    "\n",
    "*Đây là bộ dữ liệu trích xuất từ hệ thống Quản lý khách sạn (PMS), vì thế tên khách sạn và đại lý đặt phòng sẽ được ẩn \n",
    "đi.*\n",
    "\n",
    "### Explain for meal\n",
    "\n",
    "**RO**: Room only\n",
    "\n",
    "**BB**: Bed & Breakfast\n",
    "\n",
    "**HB**: Half Board (Breakfast and Dinner normally)\n",
    "\n",
    "**FB**: Full Board (Beakfast, Lunch and Dinner)\n",
    "\n",
    "**AI**: All Inclusive (all services of full board plus any others specified in each case)"
   ]
  },
  {
   "cell_type": "code",
   "execution_count": null,
   "metadata": {},
   "outputs": [],
   "source": [
    "# Categorical data\n",
    "col = ['meal', 'country',\"market_segment\", 'distribution_channel', 'reserved_room_type', 'assigned_room_type',\"deposit_type\",\"customer_type\"]\n",
    "\n",
    "for i in hotel_book[col]:\n",
    "    x = hotel_book[i].value_counts()\n",
    "    print(\"Column name is:\",i,\"and it value is:\",x)\n",
    "    print()"
   ]
  },
  {
   "cell_type": "markdown",
   "metadata": {},
   "source": [
    "**meal country**:5\n",
    "\n",
    "**market_segment**: 177\n",
    "\n",
    "**market_segment**: 8 \n",
    "\n",
    "**distribution_channel**: 5 \n",
    "\n",
    "**reserved_room_type**: 9\n",
    "\n",
    "**assigned_room_type**: 11\n",
    "\n",
    "**deposit_type**: 3\n",
    "\n",
    "**customer_type**: 4"
   ]
  },
  {
   "cell_type": "code",
   "execution_count": null,
   "metadata": {},
   "outputs": [],
   "source": [
    "hotel_book.isnull().any()"
   ]
  },
  {
   "cell_type": "code",
   "execution_count": null,
   "metadata": {},
   "outputs": [],
   "source": [
    "hotel_book = hotel_book.dropna()"
   ]
  },
  {
   "cell_type": "code",
   "execution_count": null,
   "metadata": {},
   "outputs": [],
   "source": [
    "index_drop = hotel_book[(hotel_book['meal'] == 'Undefined') & (hotel_book['market_segment'] == 'Undefined') & (hotel_book['distribution_channel'] == 'Undefined')]\n",
    "\n",
    "hotel_book.drop(index_drop.index, inplace = True,axis = 0)"
   ]
  },
  {
   "cell_type": "code",
   "execution_count": null,
   "metadata": {},
   "outputs": [],
   "source": [
    "from sklearn.model_selection import train_test_split\n",
    "\n",
    "train_set, test_set = train_test_split(hotel_book, test_size = 0.2, random_state = 42)"
   ]
  },
  {
   "cell_type": "code",
   "execution_count": null,
   "metadata": {},
   "outputs": [],
   "source": [
    "hotel_book.head()"
   ]
  },
  {
   "cell_type": "code",
   "execution_count": null,
   "metadata": {},
   "outputs": [],
   "source": [
    "X_notprepared_train_set = train_set.drop([\"is_canceled\"], axis = 1)\n",
    "\n",
    "# Take the booking has been canceled\n",
    "Y_train_set = (train_set[\"is_canceled\"] == 1).copy()"
   ]
  },
  {
   "cell_type": "code",
   "execution_count": null,
   "metadata": {},
   "outputs": [],
   "source": [
    "from sklearn.compose import ColumnTransformer\n",
    "from sklearn.preprocessing import StandardScaler\n",
    "from sklearn.preprocessing import OneHotEncoder\n",
    "\n",
    "num_attri = [\"lead_time\", 'stays_in_weekend_nights', 'stays_in_week_nights', 'adults', 'children', 'babies', 'booking_changes', 'days_in_waiting_list', 'adr', 'required_car_parking_spaces']\n",
    "cat_attri = ['meal', 'country', 'market_segment', 'distribution_channel', 'reserved_room_type', 'assigned_room_type', 'deposit_type', 'customer_type']\n",
    "\n",
    "full_pipeline = ColumnTransformer([\n",
    "    (\"num\", StandardScaler(), num_attri),\n",
    "    (\"cat\", OneHotEncoder(), cat_attri)\n",
    "])\n",
    "\n",
    "X_prepared_train_set = full_pipeline.fit_transform(X_notprepared_train_set)"
   ]
  },
  {
   "cell_type": "code",
   "execution_count": null,
   "metadata": {},
   "outputs": [],
   "source": [
    "X_prepared_train_set = X_prepared_train_set.toarray()"
   ]
  },
  {
   "cell_type": "code",
   "execution_count": null,
   "metadata": {},
   "outputs": [],
   "source": [
    "from sklearn.decomposition import PCA\n",
    "\n",
    "pca = PCA(n_components = 0.95)\n",
    "\n",
    "X_prepared_train_set_reduced = pca.fit_transform(X_prepared_train_set)"
   ]
  },
  {
   "cell_type": "code",
   "execution_count": null,
   "metadata": {},
   "outputs": [],
   "source": [
    "X_prepared_train_set_reduced.shape"
   ]
  },
  {
   "cell_type": "code",
   "execution_count": null,
   "metadata": {},
   "outputs": [],
   "source": [
    "from sklearn.linear_model import SGDClassifier\n",
    "from sklearn.model_selection import cross_val_predict\n",
    "\n",
    "sgd_clf = SGDClassifier(random_state = 42)\n",
    "\n",
    "sgd_clf.fit(hotel_prepared_train_set_reduced, hotel_label_train_set)"
   ]
  },
  {
   "cell_type": "code",
   "execution_count": null,
   "metadata": {},
   "outputs": [],
   "source": [
    "from sklearn.model_selection import cross_val_score\n",
    "from sklearn.model_selection import cross_val_predict\n",
    "from sklearn.metrics import confusion_matrix\n",
    "\n",
    "def EvalAcc&Confumatrix(model, X, Y_pred, Y, kfold = 5):\n",
    "    result1 = cross_val_score(model, X, Y, scoring = \"accuracy\", cv = kfold)\n",
    "    result2 = cross_val_predict(model, X, Y, cv = kfold)\n",
    "    return result1\n",
    "    return confusion_matrix(result2, Y)"
   ]
  },
  {
   "cell_type": "code",
   "execution_count": null,
   "metadata": {},
   "outputs": [],
   "source": [
    "from sklearn.model_selection import cross_val_predict\n",
    "\n",
    "label_scores_pre = cross_val_predict(sgd_clf, hotel_prepared_train_set_reduced, \n",
    "                                     hotel_label_train_set, cv = 3, method = \"decision_function\")"
   ]
  },
  {
   "cell_type": "code",
   "execution_count": null,
   "metadata": {},
   "outputs": [],
   "source": [
    "from sklearn.metrics import roc_curve\n",
    "\n",
    "fpr, tpr, thresholds = roc_curve(hotel_label_train_set,label_scores_pre)"
   ]
  },
  {
   "cell_type": "code",
   "execution_count": null,
   "metadata": {},
   "outputs": [],
   "source": []
  }
 ],
 "metadata": {
  "kernelspec": {
   "display_name": "Python 3",
   "language": "python",
   "name": "python3"
  },
  "language_info": {
   "codemirror_mode": {
    "name": "ipython",
    "version": 3
   },
   "file_extension": ".py",
   "mimetype": "text/x-python",
   "name": "python",
   "nbconvert_exporter": "python",
   "pygments_lexer": "ipython3",
   "version": "3.7.7-final"
  }
 },
 "nbformat": 4,
 "nbformat_minor": 2
}